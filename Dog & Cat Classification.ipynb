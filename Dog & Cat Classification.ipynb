{
 "cells": [
  {
   "cell_type": "markdown",
   "metadata": {},
   "source": [
    "# Data Science Applications HW9 : Dog and Cat Classification "
   ]
  },
  {
   "cell_type": "markdown",
   "metadata": {},
   "source": [
    "### Instroductions.\n",
    "\n",
    " - Answer the following questions and submit a report (word, pdf or hwp) including codes and screenshots of relevant results, as well as your source code (py or ipynb) on iCampus.\n",
    " \n",
    " \n",
    " - Unzip the \"cats_and_dogs_filtered.zip\" file to access the datasets; the unzipped \"cats_and_dogs_filtered\" durectory contains subdirectories named \"train\" (1,000 cat images + 1,000 dog images), \"validation\" (500 cat images + 500 dog images) and \"test\" (empty) you will have to upload your own photos in the \"your_picture\" directory in the \"test\" directory to answer the qeustions."
   ]
  },
  {
   "cell_type": "markdown",
   "metadata": {},
   "source": [
    "Given cat and god images, use the VGG16 model to develop a binary image Clssifier. At the begining of your code, set the random seed as you student ID, i.e.,"
   ]
  },
  {
   "cell_type": "code",
   "execution_count": 1,
   "metadata": {
    "ExecuteTime": {
     "end_time": "2020-06-14T10:58:00.736787Z",
     "start_time": "2020-06-14T10:58:00.562250Z"
    }
   },
   "outputs": [],
   "source": [
    "import numpy as np\n",
    "studentID = 2020710666\n",
    "np.random.seed(studentID)"
   ]
  },
  {
   "cell_type": "code",
   "execution_count": 2,
   "metadata": {
    "ExecuteTime": {
     "end_time": "2020-06-14T10:58:03.285997Z",
     "start_time": "2020-06-14T10:58:00.739777Z"
    }
   },
   "outputs": [
    {
     "data": {
      "text/plain": [
       "'2.1.0'"
      ]
     },
     "execution_count": 2,
     "metadata": {},
     "output_type": "execute_result"
    }
   ],
   "source": [
    "import tensorflow as tf\n",
    "tf.__version__"
   ]
  },
  {
   "cell_type": "markdown",
   "metadata": {},
   "source": [
    "### Data Pre-processing"
   ]
  },
  {
   "cell_type": "markdown",
   "metadata": {},
   "source": [
    "1. Training set ; 1,000 cat images, 1,000 dog images\n",
    "\n",
    "\n",
    "2. Validation set : 500 cat images, 500 dog images\n",
    "\n",
    "\n",
    "3. Use `ImageDatagenerator()`and `.flow_from_dataframe()` (https://keras.io/api/preprocessing/image/) to feed input images.\n",
    "\n",
    "    Apply data augmentation to the training set to imporve performance.\n",
    "    \n",
    "    Augmentation options : `rescale=1./255`, `rotation_range=20`, `width_shift_range=0.1`, `height_shift_range=0.1`, `shear_rage=0.1`, `zoom_range=0.1`, `horizontal_flip=True`, `fill_mode='nearest'`"
   ]
  },
  {
   "cell_type": "code",
   "execution_count": 3,
   "metadata": {
    "ExecuteTime": {
     "end_time": "2020-06-14T10:58:03.293985Z",
     "start_time": "2020-06-14T10:58:03.287996Z"
    }
   },
   "outputs": [],
   "source": [
    "train_datagen = tf.keras.preprocessing.image.ImageDataGenerator(rescale = 1./255,\n",
    "                                                                rotation_range = 20,\n",
    "                                                                width_shift_range = 0.1,\n",
    "                                                                height_shift_range = 0.1,\n",
    "                                                                shear_range = 0.1,                                                \n",
    "                                                                zoom_range = 0.1,\n",
    "                                                                horizontal_flip = True,\n",
    "                                                                fill_mode = \"nearest\")"
   ]
  },
  {
   "cell_type": "code",
   "execution_count": 4,
   "metadata": {
    "ExecuteTime": {
     "end_time": "2020-06-14T10:58:03.299928Z",
     "start_time": "2020-06-14T10:58:03.295978Z"
    }
   },
   "outputs": [],
   "source": [
    "valid_datagen = tf.keras.preprocessing.image.ImageDataGenerator(rescale = 1./255)"
   ]
  },
  {
   "cell_type": "code",
   "execution_count": 5,
   "metadata": {
    "ExecuteTime": {
     "end_time": "2020-06-14T10:58:03.425592Z",
     "start_time": "2020-06-14T10:58:03.300926Z"
    }
   },
   "outputs": [
    {
     "name": "stdout",
     "output_type": "stream",
     "text": [
      "Found 2000 images belonging to 2 classes.\n"
     ]
    }
   ],
   "source": [
    "training_set = train_datagen.flow_from_directory(\"./cats_and_dogs_filtered/train/\",\n",
    "                                                 target_size = (150, 150),\n",
    "                                                 batch_size = 32,\n",
    "                                                 class_mode = 'binary')"
   ]
  },
  {
   "cell_type": "code",
   "execution_count": 6,
   "metadata": {
    "ExecuteTime": {
     "end_time": "2020-06-14T10:58:03.540285Z",
     "start_time": "2020-06-14T10:58:03.427588Z"
    }
   },
   "outputs": [
    {
     "name": "stdout",
     "output_type": "stream",
     "text": [
      "Found 1000 images belonging to 2 classes.\n"
     ]
    }
   ],
   "source": [
    "valid_set = valid_datagen.flow_from_directory(\"./cats_and_dogs_filtered/validation/\",\n",
    "                                              target_size = (150, 150),\n",
    "                                              batch_size = 32,\n",
    "                                              class_mode = 'binary')"
   ]
  },
  {
   "cell_type": "markdown",
   "metadata": {},
   "source": [
    "### Binary Classification Model"
   ]
  },
  {
   "cell_type": "markdown",
   "metadata": {},
   "source": [
    "1. Seuential + Pre-trained VGG16 (except Dense Layer) + Add 2 Dense Layers.\n",
    "\n",
    "\n",
    "2. In the pre-trained VGG16 model, use Convolutional and Pooling layers, except for the last Dense layer (Fully Connected layer). Use the weights form ImageNet parameters where the input image size is (150,150,3).\n",
    "\n",
    "\n",
    "3. In the first Dense layer the output size is 256 with the ReLU activation function.\n",
    "\n",
    "\n",
    "4. in the second Dense layer, the output size is 1 with a sigmoid activation function.\n",
    "\n",
    "\n",
    "5. During training, use the pre-trained VGG16 model with `trainable=False` to freeze the weights.\n",
    "\n",
    "\n",
    "6. Print the model summary using `.summary()` to show the overall model architecture."
   ]
  },
  {
   "cell_type": "code",
   "execution_count": 7,
   "metadata": {
    "ExecuteTime": {
     "end_time": "2020-06-14T10:58:03.629048Z",
     "start_time": "2020-06-14T10:58:03.541319Z"
    }
   },
   "outputs": [
    {
     "name": "stderr",
     "output_type": "stream",
     "text": [
      "Using TensorFlow backend.\n"
     ]
    }
   ],
   "source": [
    "import keras\n",
    "from keras.applications.vgg16 import VGG16"
   ]
  },
  {
   "cell_type": "code",
   "execution_count": 8,
   "metadata": {
    "ExecuteTime": {
     "end_time": "2020-06-14T10:58:04.024051Z",
     "start_time": "2020-06-14T10:58:03.632040Z"
    }
   },
   "outputs": [],
   "source": [
    "vgg16 = VGG16(weights = 'imagenet',\n",
    "              include_top = False,\n",
    "              input_shape=(150, 150, 3))"
   ]
  },
  {
   "cell_type": "code",
   "execution_count": 9,
   "metadata": {
    "ExecuteTime": {
     "end_time": "2020-06-14T10:58:04.029017Z",
     "start_time": "2020-06-14T10:58:04.024988Z"
    }
   },
   "outputs": [],
   "source": [
    "layer_dict = dict([(layer.name, layer) for layer in vgg16.layers])"
   ]
  },
  {
   "cell_type": "code",
   "execution_count": 10,
   "metadata": {
    "ExecuteTime": {
     "end_time": "2020-06-14T10:58:04.033965Z",
     "start_time": "2020-06-14T10:58:04.030973Z"
    }
   },
   "outputs": [],
   "source": [
    "x = layer_dict['block2_pool'].output"
   ]
  },
  {
   "cell_type": "code",
   "execution_count": 11,
   "metadata": {
    "ExecuteTime": {
     "end_time": "2020-06-14T10:58:04.357100Z",
     "start_time": "2020-06-14T10:58:04.035999Z"
    }
   },
   "outputs": [],
   "source": [
    "x = keras.layers.Flatten()(x)\n",
    "x = keras.layers.Dense(256, activation='relu')(x)\n",
    "x = keras.layers.Dense(1, activation='sigmoid')(x)"
   ]
  },
  {
   "cell_type": "code",
   "execution_count": 12,
   "metadata": {
    "ExecuteTime": {
     "end_time": "2020-06-14T10:58:04.365080Z",
     "start_time": "2020-06-14T10:58:04.358098Z"
    }
   },
   "outputs": [
    {
     "name": "stderr",
     "output_type": "stream",
     "text": [
      "c:\\users\\user\\anaconda3\\envs\\dsa\\lib\\site-packages\\ipykernel_launcher.py:2: UserWarning: Update your `Model` call to the Keras 2 API: `Model(inputs=Tensor(\"in..., outputs=Tensor(\"de...)`\n",
      "  \n"
     ]
    }
   ],
   "source": [
    "from keras.models import Model\n",
    "custom_model = Model(input=vgg16.input, output=x)"
   ]
  },
  {
   "cell_type": "code",
   "execution_count": 13,
   "metadata": {
    "ExecuteTime": {
     "end_time": "2020-06-14T10:58:04.371064Z",
     "start_time": "2020-06-14T10:58:04.367075Z"
    }
   },
   "outputs": [],
   "source": [
    "for layer in custom_model.layers[:7]:\n",
    "    layer.trainable = False"
   ]
  },
  {
   "cell_type": "code",
   "execution_count": 14,
   "metadata": {
    "ExecuteTime": {
     "end_time": "2020-06-14T10:58:04.380039Z",
     "start_time": "2020-06-14T10:58:04.374056Z"
    }
   },
   "outputs": [
    {
     "name": "stdout",
     "output_type": "stream",
     "text": [
      "Model: \"model_1\"\n",
      "_________________________________________________________________\n",
      "Layer (type)                 Output Shape              Param #   \n",
      "=================================================================\n",
      "input_1 (InputLayer)         (None, 150, 150, 3)       0         \n",
      "_________________________________________________________________\n",
      "block1_conv1 (Conv2D)        (None, 150, 150, 64)      1792      \n",
      "_________________________________________________________________\n",
      "block1_conv2 (Conv2D)        (None, 150, 150, 64)      36928     \n",
      "_________________________________________________________________\n",
      "block1_pool (MaxPooling2D)   (None, 75, 75, 64)        0         \n",
      "_________________________________________________________________\n",
      "block2_conv1 (Conv2D)        (None, 75, 75, 128)       73856     \n",
      "_________________________________________________________________\n",
      "block2_conv2 (Conv2D)        (None, 75, 75, 128)       147584    \n",
      "_________________________________________________________________\n",
      "block2_pool (MaxPooling2D)   (None, 37, 37, 128)       0         \n",
      "_________________________________________________________________\n",
      "flatten_1 (Flatten)          (None, 175232)            0         \n",
      "_________________________________________________________________\n",
      "dense_1 (Dense)              (None, 256)               44859648  \n",
      "_________________________________________________________________\n",
      "dense_2 (Dense)              (None, 1)                 257       \n",
      "=================================================================\n",
      "Total params: 45,120,065\n",
      "Trainable params: 44,859,905\n",
      "Non-trainable params: 260,160\n",
      "_________________________________________________________________\n"
     ]
    }
   ],
   "source": [
    "custom_model.summary()"
   ]
  },
  {
   "cell_type": "markdown",
   "metadata": {},
   "source": [
    "### Model Compiling"
   ]
  },
  {
   "cell_type": "markdown",
   "metadata": {},
   "source": [
    "1. Use binary cross entropy as the loss function\n",
    "\n",
    "\n",
    "2. Start with a learning rate of 2e-5"
   ]
  },
  {
   "cell_type": "code",
   "execution_count": 15,
   "metadata": {
    "ExecuteTime": {
     "end_time": "2020-06-14T10:58:04.391010Z",
     "start_time": "2020-06-14T10:58:04.383032Z"
    }
   },
   "outputs": [],
   "source": [
    "from keras import optimizers\n",
    "sgd = optimizers.SGD(lr=2e-5)"
   ]
  },
  {
   "cell_type": "code",
   "execution_count": 16,
   "metadata": {
    "ExecuteTime": {
     "end_time": "2020-06-14T10:58:04.426914Z",
     "start_time": "2020-06-14T10:58:04.392007Z"
    }
   },
   "outputs": [],
   "source": [
    "custom_model.compile(loss='binary_crossentropy',\n",
    "                     optimizer=sgd,\n",
    "                     metrics=['accuracy'])"
   ]
  },
  {
   "cell_type": "markdown",
   "metadata": {},
   "source": [
    "### Model Training"
   ]
  },
  {
   "cell_type": "markdown",
   "metadata": {},
   "source": [
    "1. Train your model using `fit_generator()`. Select proper parameters for `step_per_epoch` and `validation_steps`. `steps_per_epoch` is the total number of steps (batch or samples) is the total number of steps (batches of samples) to draw before stopping whe performing validation at the end of every epoch (`validation_data` required).\n",
    "\n",
    "\n",
    "2. Use a batch size of 20 and 30 epochs."
   ]
  },
  {
   "cell_type": "code",
   "execution_count": 17,
   "metadata": {
    "ExecuteTime": {
     "end_time": "2020-06-14T10:58:04.431901Z",
     "start_time": "2020-06-14T10:58:04.428909Z"
    }
   },
   "outputs": [],
   "source": [
    "steps_per_epoch = 2000 / 32\n",
    "validation_steps = 1000 / 32"
   ]
  },
  {
   "cell_type": "code",
   "execution_count": 18,
   "metadata": {
    "ExecuteTime": {
     "end_time": "2020-06-14T11:18:08.008835Z",
     "start_time": "2020-06-14T10:58:04.433896Z"
    }
   },
   "outputs": [
    {
     "name": "stdout",
     "output_type": "stream",
     "text": [
      "Epoch 1/10\n",
      "63/62 [==============================] - 122s 2s/step - loss: 2.7519 - accuracy: 0.5225 - val_loss: 2.7126 - val_accuracy: 0.5550\n",
      "Epoch 2/10\n",
      "63/62 [==============================] - 113s 2s/step - loss: 1.0717 - accuracy: 0.5570 - val_loss: 0.6324 - val_accuracy: 0.6030\n",
      "Epoch 3/10\n",
      "63/62 [==============================] - 119s 2s/step - loss: 0.9201 - accuracy: 0.5760 - val_loss: 0.5107 - val_accuracy: 0.6020\n",
      "Epoch 4/10\n",
      "63/62 [==============================] - 122s 2s/step - loss: 0.8228 - accuracy: 0.6075 - val_loss: 0.2251 - val_accuracy: 0.6050\n",
      "Epoch 5/10\n",
      "63/62 [==============================] - 121s 2s/step - loss: 0.7292 - accuracy: 0.6225 - val_loss: 0.9379 - val_accuracy: 0.6080\n",
      "Epoch 6/10\n",
      "63/62 [==============================] - 123s 2s/step - loss: 0.7217 - accuracy: 0.6140 - val_loss: 0.9357 - val_accuracy: 0.6320\n",
      "Epoch 7/10\n",
      "63/62 [==============================] - 120s 2s/step - loss: 0.6966 - accuracy: 0.6210 - val_loss: 0.4700 - val_accuracy: 0.6430\n",
      "Epoch 8/10\n",
      "63/62 [==============================] - 123s 2s/step - loss: 0.6708 - accuracy: 0.6125 - val_loss: 0.8938 - val_accuracy: 0.6440\n",
      "Epoch 9/10\n",
      "63/62 [==============================] - 122s 2s/step - loss: 0.6612 - accuracy: 0.6240 - val_loss: 0.7883 - val_accuracy: 0.6620\n",
      "Epoch 10/10\n",
      "63/62 [==============================] - 119s 2s/step - loss: 0.6685 - accuracy: 0.6365 - val_loss: 0.6906 - val_accuracy: 0.6720\n"
     ]
    }
   ],
   "source": [
    "hist = custom_model.fit_generator(generator = training_set,\n",
    "                                  steps_per_epoch = steps_per_epoch,\n",
    "                                  validation_data= valid_set,\n",
    "                                  validation_steps = validation_steps,\n",
    "                                  epochs = 10)"
   ]
  },
  {
   "cell_type": "code",
   "execution_count": 19,
   "metadata": {
    "ExecuteTime": {
     "end_time": "2020-06-14T11:18:42.906499Z",
     "start_time": "2020-06-14T11:18:08.011829Z"
    }
   },
   "outputs": [
    {
     "name": "stdout",
     "output_type": "stream",
     "text": [
      "-- Evaluate --\n",
      "accuracy: 67.20%\n"
     ]
    }
   ],
   "source": [
    "print(\"-- Evaluate --\")\n",
    "scores = custom_model.evaluate_generator(valid_set, steps=validation_steps)\n",
    "print(\"%s: %.2f%%\" %(custom_model.metrics_names[1], scores[1]*100))"
   ]
  },
  {
   "cell_type": "markdown",
   "metadata": {},
   "source": [
    "### Questions"
   ]
  },
  {
   "cell_type": "markdown",
   "metadata": {},
   "source": [
    "#### Question 1\n",
    "\n",
    "Plot the training accurcay and the validation accuracy for each epoch on a graph, whrere the X-axis represents the number of epochs and Y-axis reoresents the accuracy values."
   ]
  },
  {
   "cell_type": "markdown",
   "metadata": {},
   "source": [
    "#### Question 2\n",
    "\n",
    "Plot the training loss and the validation loss for each epoch on a graph, where the X-axis represents the number of epochs and Y-axis represents the loss vlaues."
   ]
  },
  {
   "cell_type": "code",
   "execution_count": 20,
   "metadata": {
    "ExecuteTime": {
     "end_time": "2020-06-14T11:18:43.799112Z",
     "start_time": "2020-06-14T11:18:42.910489Z"
    }
   },
   "outputs": [
    {
     "data": {
      "image/png": "[encoded data removed]",
      "text/plain": [
       "<Figure size 432x288 with 2 Axes>"
      ]
     },
     "metadata": {
      "needs_background": "light"
     },
     "output_type": "display_data"
    }
   ],
   "source": [
    "import matplotlib.pyplot as plt\n",
    "\n",
    "fig, loss_ax = plt.subplots()\n",
    "\n",
    "acc_ax = loss_ax.twinx()\n",
    "\n",
    "loss_ax.plot(hist.history['loss'], 'y', label='train loss')\n",
    "loss_ax.plot(hist.history['val_loss'], 'r', label='val loss')\n",
    "\n",
    "acc_ax.plot(hist.history['accuracy'], 'b', label='train accuracy')\n",
    "acc_ax.plot(hist.history['val_accuracy'], 'g', label='val_accuracy acc')\n",
    "\n",
    "loss_ax.set_xlabel('epoch')\n",
    "loss_ax.set_ylabel('loss')\n",
    "acc_ax.set_ylabel('accuray')\n",
    "\n",
    "loss_ax.legend(loc='upper left')\n",
    "acc_ax.legend(loc='lower left')\n",
    "\n",
    "plt.show()"
   ]
  },
  {
   "cell_type": "markdown",
   "metadata": {},
   "source": [
    "#### Question 3\n",
    "\n",
    "Use two different optimizers of your choice for your model and show the corressponding accuracy values."
   ]
  },
  {
   "cell_type": "code",
   "execution_count": 21,
   "metadata": {
    "ExecuteTime": {
     "end_time": "2020-06-14T11:41:26.034700Z",
     "start_time": "2020-06-14T11:18:43.801108Z"
    }
   },
   "outputs": [
    {
     "name": "stdout",
     "output_type": "stream",
     "text": [
      "Epoch 1/10\n",
      "63/62 [==============================] - 134s 2s/step - loss: 569.9380 - accuracy: 0.5195 - val_loss: 166.5874 - val_accuracy: 0.5000\n",
      "Epoch 2/10\n",
      "63/62 [==============================] - 131s 2s/step - loss: 292.7406 - accuracy: 0.5405 - val_loss: 320.3939 - val_accuracy: 0.5000\n",
      "Epoch 3/10\n",
      "63/62 [==============================] - 133s 2s/step - loss: 232.7167 - accuracy: 0.5775 - val_loss: 346.8635 - val_accuracy: 0.5090\n",
      "Epoch 4/10\n",
      "63/62 [==============================] - 134s 2s/step - loss: 177.2208 - accuracy: 0.5950 - val_loss: 26.6280 - val_accuracy: 0.6200\n",
      "Epoch 5/10\n",
      "63/62 [==============================] - 133s 2s/step - loss: 151.3613 - accuracy: 0.5860 - val_loss: 189.8867 - val_accuracy: 0.5810\n",
      "Epoch 6/10\n",
      "63/62 [==============================] - 133s 2s/step - loss: 98.5517 - accuracy: 0.6255 - val_loss: 16.2702 - val_accuracy: 0.6820\n",
      "Epoch 7/10\n",
      "63/62 [==============================] - 131s 2s/step - loss: 67.2585 - accuracy: 0.6255 - val_loss: 10.8152 - val_accuracy: 0.6640\n",
      "Epoch 8/10\n",
      "63/62 [==============================] - 133s 2s/step - loss: 47.1663 - accuracy: 0.6470 - val_loss: 16.0253 - val_accuracy: 0.7540\n",
      "Epoch 9/10\n",
      "63/62 [==============================] - 131s 2s/step - loss: 34.9850 - accuracy: 0.6115 - val_loss: 12.6308 - val_accuracy: 0.7580\n",
      "Epoch 10/10\n",
      "63/62 [==============================] - 133s 2s/step - loss: 9.9496 - accuracy: 0.6565 - val_loss: 1.4311 - val_accuracy: 0.7400\n",
      "-- Evaluate --\n",
      "accuracy: 74.00%\n"
     ]
    }
   ],
   "source": [
    "custom_model.compile(loss='binary_crossentropy',\n",
    "                     optimizer=\"rmsprop\",\n",
    "                     metrics=['accuracy'])\n",
    "\n",
    "hist = custom_model.fit_generator(generator = training_set,\n",
    "                                  steps_per_epoch = steps_per_epoch,\n",
    "                                  validation_data= valid_set,\n",
    "                                  validation_steps = validation_steps,\n",
    "                                  epochs = 10)\n",
    "\n",
    "print(\"-- Evaluate --\")\n",
    "scores = custom_model.evaluate_generator(valid_set, steps=validation_steps)\n",
    "print(\"%s: %.2f%%\" %(custom_model.metrics_names[1], scores[1]*100))"
   ]
  },
  {
   "cell_type": "code",
   "execution_count": 22,
   "metadata": {
    "ExecuteTime": {
     "end_time": "2020-06-14T12:03:25.329139Z",
     "start_time": "2020-06-14T11:41:26.038690Z"
    }
   },
   "outputs": [
    {
     "name": "stdout",
     "output_type": "stream",
     "text": [
      "Epoch 1/10\n",
      "63/62 [==============================] - 127s 2s/step - loss: 17.2169 - accuracy: 0.5080 - val_loss: 0.6931 - val_accuracy: 0.5030\n",
      "Epoch 2/10\n",
      "63/62 [==============================] - 131s 2s/step - loss: 7.4770 - accuracy: 0.5000 - val_loss: 0.6932 - val_accuracy: 0.5000\n",
      "Epoch 3/10\n",
      "63/62 [==============================] - 128s 2s/step - loss: 3.6412 - accuracy: 0.4985 - val_loss: 0.6921 - val_accuracy: 0.5000\n",
      "Epoch 4/10\n",
      "63/62 [==============================] - 128s 2s/step - loss: 0.6932 - accuracy: 0.5000 - val_loss: 0.6950 - val_accuracy: 0.5000\n",
      "Epoch 5/10\n",
      "63/62 [==============================] - 129s 2s/step - loss: 0.6932 - accuracy: 0.5000 - val_loss: 0.6907 - val_accuracy: 0.5000\n",
      "Epoch 6/10\n",
      "63/62 [==============================] - 127s 2s/step - loss: 1.3171 - accuracy: 0.5045 - val_loss: 0.6932 - val_accuracy: 0.5000\n",
      "Epoch 7/10\n",
      "63/62 [==============================] - 130s 2s/step - loss: 0.6932 - accuracy: 0.5000 - val_loss: 0.6941 - val_accuracy: 0.5000\n",
      "Epoch 8/10\n",
      "63/62 [==============================] - 127s 2s/step - loss: 0.6932 - accuracy: 0.5000 - val_loss: 0.6932 - val_accuracy: 0.5000\n",
      "Epoch 9/10\n",
      "63/62 [==============================] - 128s 2s/step - loss: 0.6932 - accuracy: 0.5000 - val_loss: 0.6947 - val_accuracy: 0.5000\n",
      "Epoch 10/10\n",
      "63/62 [==============================] - 128s 2s/step - loss: 0.6932 - accuracy: 0.5000 - val_loss: 0.6932 - val_accuracy: 0.5000\n",
      "-- Evaluate --\n",
      "accuracy: 50.00%\n"
     ]
    }
   ],
   "source": [
    "custom_model.compile(loss='binary_crossentropy',\n",
    "                     optimizer=\"adagrad\",\n",
    "                     metrics=['accuracy'])\n",
    "\n",
    "hist = custom_model.fit_generator(generator = training_set,\n",
    "                                  steps_per_epoch = steps_per_epoch,\n",
    "                                  validation_data= valid_set,\n",
    "                                  validation_steps = validation_steps,\n",
    "                                  epochs = 10)\n",
    "\n",
    "print(\"-- Evaluate --\")\n",
    "scores = custom_model.evaluate_generator(valid_set, steps=validation_steps)\n",
    "print(\"%s: %.2f%%\" %(custom_model.metrics_names[1], scores[1]*100))"
   ]
  },
  {
   "cell_type": "markdown",
   "metadata": {},
   "source": [
    "#### Question 4\n",
    "\n",
    "Use five different learning rate values of your choice and show the corresponding accuracy values."
   ]
  },
  {
   "cell_type": "code",
   "execution_count": 23,
   "metadata": {
    "ExecuteTime": {
     "end_time": "2020-06-14T12:24:11.955932Z",
     "start_time": "2020-06-14T12:03:25.340108Z"
    }
   },
   "outputs": [
    {
     "name": "stdout",
     "output_type": "stream",
     "text": [
      "Epoch 1/10\n",
      "63/62 [==============================] - 121s 2s/step - loss: 0.6935 - accuracy: 0.4850 - val_loss: 0.6944 - val_accuracy: 0.5000\n",
      "Epoch 2/10\n",
      "63/62 [==============================] - 123s 2s/step - loss: 0.6934 - accuracy: 0.4930 - val_loss: 0.6978 - val_accuracy: 0.5000\n",
      "Epoch 3/10\n",
      "63/62 [==============================] - 120s 2s/step - loss: 0.6935 - accuracy: 0.4880 - val_loss: 0.6955 - val_accuracy: 0.5000\n",
      "Epoch 4/10\n",
      "63/62 [==============================] - 121s 2s/step - loss: 0.6934 - accuracy: 0.4900 - val_loss: 0.6932 - val_accuracy: 0.5000\n",
      "Epoch 5/10\n",
      "63/62 [==============================] - 122s 2s/step - loss: 0.6935 - accuracy: 0.4880 - val_loss: 0.6924 - val_accuracy: 0.5000\n",
      "Epoch 6/10\n",
      "63/62 [==============================] - 122s 2s/step - loss: 0.6932 - accuracy: 0.4975 - val_loss: 0.6957 - val_accuracy: 0.5000\n",
      "Epoch 7/10\n",
      "63/62 [==============================] - 122s 2s/step - loss: 0.6935 - accuracy: 0.4820 - val_loss: 0.6931 - val_accuracy: 0.5000\n",
      "Epoch 8/10\n",
      "63/62 [==============================] - 119s 2s/step - loss: 0.6936 - accuracy: 0.4830 - val_loss: 0.6934 - val_accuracy: 0.5000\n",
      "Epoch 9/10\n",
      "63/62 [==============================] - 121s 2s/step - loss: 0.6935 - accuracy: 0.4950 - val_loss: 0.6932 - val_accuracy: 0.5000\n",
      "Epoch 10/10\n",
      "63/62 [==============================] - 121s 2s/step - loss: 0.6935 - accuracy: 0.4930 - val_loss: 0.6970 - val_accuracy: 0.5000\n",
      "-- Evaluate --\n",
      "accuracy: 50.00%\n"
     ]
    }
   ],
   "source": [
    "sgd = optimizers.SGD(lr=1e-1)\n",
    "\n",
    "custom_model.compile(loss='binary_crossentropy',\n",
    "                     optimizer=sgd,\n",
    "                     metrics=['accuracy'])\n",
    "\n",
    "hist = custom_model.fit_generator(generator = training_set,\n",
    "                                  steps_per_epoch = steps_per_epoch,\n",
    "                                  validation_data= valid_set,\n",
    "                                  validation_steps = validation_steps,\n",
    "                                  epochs = 10)\n",
    "\n",
    "print(\"-- Evaluate --\")\n",
    "scores = custom_model.evaluate_generator(valid_set, steps=validation_steps)\n",
    "print(\"%s: %.2f%%\" %(custom_model.metrics_names[1], scores[1]*100))"
   ]
  },
  {
   "cell_type": "code",
   "execution_count": 24,
   "metadata": {
    "ExecuteTime": {
     "end_time": "2020-06-14T12:45:01.788153Z",
     "start_time": "2020-06-14T12:24:11.961916Z"
    }
   },
   "outputs": [
    {
     "name": "stdout",
     "output_type": "stream",
     "text": [
      "Epoch 1/10\n",
      "63/62 [==============================] - 122s 2s/step - loss: 0.6932 - accuracy: 0.5000 - val_loss: 0.6963 - val_accuracy: 0.5000\n",
      "Epoch 2/10\n",
      "63/62 [==============================] - 121s 2s/step - loss: 0.6932 - accuracy: 0.5000 - val_loss: 0.6969 - val_accuracy: 0.5000\n",
      "Epoch 3/10\n",
      "63/62 [==============================] - 120s 2s/step - loss: 0.6932 - accuracy: 0.5000 - val_loss: 0.6932 - val_accuracy: 0.5000\n",
      "Epoch 4/10\n",
      "63/62 [==============================] - 121s 2s/step - loss: 0.6932 - accuracy: 0.5000 - val_loss: 0.6960 - val_accuracy: 0.5000\n",
      "Epoch 5/10\n",
      "63/62 [==============================] - 121s 2s/step - loss: 0.6932 - accuracy: 0.5000 - val_loss: 0.6940 - val_accuracy: 0.5000\n",
      "Epoch 6/10\n",
      "63/62 [==============================] - 118s 2s/step - loss: 0.8478 - accuracy: 0.4990 - val_loss: 0.6933 - val_accuracy: 0.5000\n",
      "Epoch 7/10\n",
      "63/62 [==============================] - 123s 2s/step - loss: 0.6932 - accuracy: 0.5000 - val_loss: 0.6933 - val_accuracy: 0.5000\n",
      "Epoch 8/10\n",
      "63/62 [==============================] - 121s 2s/step - loss: 0.6932 - accuracy: 0.4940 - val_loss: 0.6930 - val_accuracy: 0.5000\n",
      "Epoch 9/10\n",
      "63/62 [==============================] - 122s 2s/step - loss: 0.6932 - accuracy: 0.4870 - val_loss: 0.6933 - val_accuracy: 0.5000\n",
      "Epoch 10/10\n",
      "63/62 [==============================] - 125s 2s/step - loss: 0.6932 - accuracy: 0.5000 - val_loss: 0.6937 - val_accuracy: 0.5000\n",
      "-- Evaluate --\n",
      "accuracy: 50.00%\n"
     ]
    }
   ],
   "source": [
    "sgd = optimizers.SGD(lr=1e-2)\n",
    "\n",
    "custom_model.compile(loss='binary_crossentropy',\n",
    "                     optimizer=sgd,\n",
    "                     metrics=['accuracy'])\n",
    "\n",
    "hist = custom_model.fit_generator(generator = training_set,\n",
    "                                  steps_per_epoch = steps_per_epoch,\n",
    "                                  validation_data= valid_set,\n",
    "                                  validation_steps = validation_steps,\n",
    "                                  epochs = 10)\n",
    "\n",
    "print(\"-- Evaluate --\")\n",
    "scores = custom_model.evaluate_generator(valid_set, steps=validation_steps)\n",
    "print(\"%s: %.2f%%\" %(custom_model.metrics_names[1], scores[1]*100))"
   ]
  },
  {
   "cell_type": "code",
   "execution_count": 25,
   "metadata": {
    "ExecuteTime": {
     "end_time": "2020-06-14T13:05:48.893666Z",
     "start_time": "2020-06-14T12:45:01.792142Z"
    }
   },
   "outputs": [
    {
     "name": "stdout",
     "output_type": "stream",
     "text": [
      "Epoch 1/10\n",
      "63/62 [==============================] - 122s 2s/step - loss: 0.6932 - accuracy: 0.5000 - val_loss: 0.6929 - val_accuracy: 0.5000\n",
      "Epoch 2/10\n",
      "63/62 [==============================] - 121s 2s/step - loss: 0.6928 - accuracy: 0.5005 - val_loss: 0.6937 - val_accuracy: 0.5000\n",
      "Epoch 3/10\n",
      "63/62 [==============================] - 119s 2s/step - loss: 0.6931 - accuracy: 0.5005 - val_loss: 0.6937 - val_accuracy: 0.5000\n",
      "Epoch 4/10\n",
      "63/62 [==============================] - 122s 2s/step - loss: 0.6932 - accuracy: 0.5000 - val_loss: 0.6934 - val_accuracy: 0.5000\n",
      "Epoch 5/10\n",
      "63/62 [==============================] - 120s 2s/step - loss: 0.6931 - accuracy: 0.5000 - val_loss: 0.6926 - val_accuracy: 0.5000\n",
      "Epoch 6/10\n",
      "63/62 [==============================] - 120s 2s/step - loss: 0.6932 - accuracy: 0.5000 - val_loss: 0.6929 - val_accuracy: 0.5000\n",
      "Epoch 7/10\n",
      "63/62 [==============================] - 123s 2s/step - loss: 0.6931 - accuracy: 0.5000 - val_loss: 0.6934 - val_accuracy: 0.5000\n",
      "Epoch 8/10\n",
      "63/62 [==============================] - 120s 2s/step - loss: 0.6932 - accuracy: 0.5000 - val_loss: 0.6939 - val_accuracy: 0.5000\n",
      "Epoch 9/10\n",
      "63/62 [==============================] - 122s 2s/step - loss: 0.6928 - accuracy: 0.5005 - val_loss: 0.6937 - val_accuracy: 0.5000\n",
      "Epoch 10/10\n",
      "63/62 [==============================] - 121s 2s/step - loss: 0.6932 - accuracy: 0.5000 - val_loss: 0.6934 - val_accuracy: 0.5000\n",
      "-- Evaluate --\n",
      "accuracy: 50.00%\n"
     ]
    }
   ],
   "source": [
    "sgd = optimizers.SGD(lr=1e-3)\n",
    "\n",
    "custom_model.compile(loss='binary_crossentropy',\n",
    "                     optimizer=sgd,\n",
    "                     metrics=['accuracy'])\n",
    "\n",
    "hist = custom_model.fit_generator(generator = training_set,\n",
    "                                  steps_per_epoch = steps_per_epoch,\n",
    "                                  validation_data= valid_set,\n",
    "                                  validation_steps = validation_steps,\n",
    "                                  epochs = 10)\n",
    "\n",
    "print(\"-- Evaluate --\")\n",
    "scores = custom_model.evaluate_generator(valid_set, steps=validation_steps)\n",
    "print(\"%s: %.2f%%\" %(custom_model.metrics_names[1], scores[1]*100))"
   ]
  },
  {
   "cell_type": "code",
   "execution_count": 26,
   "metadata": {
    "ExecuteTime": {
     "end_time": "2020-06-14T13:26:50.703871Z",
     "start_time": "2020-06-14T13:05:48.896658Z"
    }
   },
   "outputs": [
    {
     "name": "stdout",
     "output_type": "stream",
     "text": [
      "Epoch 1/10\n",
      "63/62 [==============================] - 122s 2s/step - loss: 0.6931 - accuracy: 0.5000 - val_loss: 0.6926 - val_accuracy: 0.5000\n",
      "Epoch 2/10\n",
      "63/62 [==============================] - 121s 2s/step - loss: 0.6931 - accuracy: 0.5000 - val_loss: 0.6929 - val_accuracy: 0.5000\n",
      "Epoch 3/10\n",
      "63/62 [==============================] - 123s 2s/step - loss: 0.6932 - accuracy: 0.5000 - val_loss: 0.6929 - val_accuracy: 0.5000\n",
      "Epoch 4/10\n",
      "63/62 [==============================] - 126s 2s/step - loss: 0.6931 - accuracy: 0.5000 - val_loss: 0.6934 - val_accuracy: 0.5000\n",
      "Epoch 5/10\n",
      "63/62 [==============================] - 121s 2s/step - loss: 0.6931 - accuracy: 0.5000 - val_loss: 0.6929 - val_accuracy: 0.5000\n",
      "Epoch 6/10\n",
      "63/62 [==============================] - 121s 2s/step - loss: 0.6931 - accuracy: 0.5000 - val_loss: 0.6934 - val_accuracy: 0.5000\n",
      "Epoch 7/10\n",
      "63/62 [==============================] - 122s 2s/step - loss: 0.6931 - accuracy: 0.5000 - val_loss: 0.6931 - val_accuracy: 0.5000\n",
      "Epoch 8/10\n",
      "63/62 [==============================] - 119s 2s/step - loss: 0.6931 - accuracy: 0.5000 - val_loss: 0.6939 - val_accuracy: 0.5000\n",
      "Epoch 9/10\n",
      "63/62 [==============================] - 129s 2s/step - loss: 0.6931 - accuracy: 0.5000 - val_loss: 0.6931 - val_accuracy: 0.5000\n",
      "Epoch 10/10\n",
      "63/62 [==============================] - 121s 2s/step - loss: 0.6931 - accuracy: 0.5000 - val_loss: 0.6936 - val_accuracy: 0.5000\n",
      "-- Evaluate --\n",
      "accuracy: 50.00%\n"
     ]
    }
   ],
   "source": [
    "sgd = optimizers.SGD(lr=1e-4)\n",
    "\n",
    "custom_model.compile(loss='binary_crossentropy',\n",
    "                     optimizer=sgd,\n",
    "                     metrics=['accuracy'])\n",
    "\n",
    "hist = custom_model.fit_generator(generator = training_set,\n",
    "                                  steps_per_epoch = steps_per_epoch,\n",
    "                                  validation_data= valid_set,\n",
    "                                  validation_steps = validation_steps,\n",
    "                                  epochs = 10)\n",
    "\n",
    "print(\"-- Evaluate --\")\n",
    "scores = custom_model.evaluate_generator(valid_set, steps=validation_steps)\n",
    "print(\"%s: %.2f%%\" %(custom_model.metrics_names[1], scores[1]*100))"
   ]
  },
  {
   "cell_type": "code",
   "execution_count": 27,
   "metadata": {
    "ExecuteTime": {
     "end_time": "2020-06-14T13:47:59.816525Z",
     "start_time": "2020-06-14T13:26:50.707861Z"
    }
   },
   "outputs": [
    {
     "name": "stdout",
     "output_type": "stream",
     "text": [
      "Epoch 1/10\n",
      "63/62 [==============================] - 122s 2s/step - loss: 0.6931 - accuracy: 0.5000 - val_loss: 0.6929 - val_accuracy: 0.5000\n",
      "Epoch 2/10\n",
      "63/62 [==============================] - 122s 2s/step - loss: 0.6931 - accuracy: 0.5000 - val_loss: 0.6936 - val_accuracy: 0.5000\n",
      "Epoch 3/10\n",
      "63/62 [==============================] - 123s 2s/step - loss: 0.6931 - accuracy: 0.5000 - val_loss: 0.6934 - val_accuracy: 0.5000\n",
      "Epoch 4/10\n",
      "63/62 [==============================] - 123s 2s/step - loss: 0.6929 - accuracy: 0.5005 - val_loss: 0.6931 - val_accuracy: 0.5000\n",
      "Epoch 5/10\n",
      "63/62 [==============================] - 134s 2s/step - loss: 0.6931 - accuracy: 0.5000 - val_loss: 0.6929 - val_accuracy: 0.5000\n",
      "Epoch 6/10\n",
      "63/62 [==============================] - 121s 2s/step - loss: 0.6931 - accuracy: 0.5000 - val_loss: 0.6931 - val_accuracy: 0.5000\n",
      "Epoch 7/10\n",
      "63/62 [==============================] - 122s 2s/step - loss: 0.6931 - accuracy: 0.5000 - val_loss: 0.6934 - val_accuracy: 0.5000\n",
      "Epoch 8/10\n",
      "63/62 [==============================] - 120s 2s/step - loss: 0.6931 - accuracy: 0.5000 - val_loss: 0.6927 - val_accuracy: 0.5000\n",
      "Epoch 9/10\n",
      "63/62 [==============================] - 123s 2s/step - loss: 0.6931 - accuracy: 0.5000 - val_loss: 0.6931 - val_accuracy: 0.5000\n",
      "Epoch 10/10\n",
      "63/62 [==============================] - 122s 2s/step - loss: 0.6931 - accuracy: 0.5000 - val_loss: 0.6929 - val_accuracy: 0.5000\n",
      "-- Evaluate --\n",
      "accuracy: 50.00%\n"
     ]
    }
   ],
   "source": [
    "sgd = optimizers.SGD(lr=1e-5)\n",
    "\n",
    "custom_model.compile(loss='binary_crossentropy',\n",
    "                     optimizer=sgd,\n",
    "                     metrics=['accuracy'])\n",
    "\n",
    "hist = custom_model.fit_generator(generator = training_set,\n",
    "                                  steps_per_epoch = steps_per_epoch,\n",
    "                                  validation_data= valid_set,\n",
    "                                  validation_steps = validation_steps,\n",
    "                                  epochs = 10)\n",
    "\n",
    "print(\"-- Evaluate --\")\n",
    "scores = custom_model.evaluate_generator(valid_set, steps=validation_steps)\n",
    "print(\"%s: %.2f%%\" %(custom_model.metrics_names[1], scores[1]*100))"
   ]
  },
  {
   "cell_type": "markdown",
   "metadata": {},
   "source": [
    "#### Question 5\n",
    "\n",
    "Propose and apply method to improve the model performance (e.g., different model architecture, use of additional training data, etc.). Has the model accuracy increased or decreased and by how much?"
   ]
  },
  {
   "cell_type": "code",
   "execution_count": 28,
   "metadata": {
    "ExecuteTime": {
     "end_time": "2020-06-14T13:48:03.750004Z",
     "start_time": "2020-06-14T13:47:59.821512Z"
    }
   },
   "outputs": [
    {
     "name": "stdout",
     "output_type": "stream",
     "text": [
      "Model: \"model_2\"\n",
      "_________________________________________________________________\n",
      "Layer (type)                 Output Shape              Param #   \n",
      "=================================================================\n",
      "input_2 (InputLayer)         (None, 150, 150, 3)       0         \n",
      "_________________________________________________________________\n",
      "block1_conv1 (Conv2D)        (None, 74, 74, 32)        864       \n",
      "_________________________________________________________________\n",
      "block1_conv1_bn (BatchNormal (None, 74, 74, 32)        128       \n",
      "_________________________________________________________________\n",
      "block1_conv1_act (Activation (None, 74, 74, 32)        0         \n",
      "_________________________________________________________________\n",
      "block1_conv2 (Conv2D)        (None, 72, 72, 64)        18432     \n",
      "_________________________________________________________________\n",
      "block1_conv2_bn (BatchNormal (None, 72, 72, 64)        256       \n",
      "_________________________________________________________________\n",
      "block1_conv2_act (Activation (None, 72, 72, 64)        0         \n",
      "_________________________________________________________________\n",
      "block2_sepconv1 (SeparableCo (None, 72, 72, 128)       8768      \n",
      "_________________________________________________________________\n",
      "block2_sepconv1_bn (BatchNor (None, 72, 72, 128)       512       \n",
      "_________________________________________________________________\n",
      "block2_sepconv2_act (Activat (None, 72, 72, 128)       0         \n",
      "_________________________________________________________________\n",
      "block2_sepconv2 (SeparableCo (None, 72, 72, 128)       17536     \n",
      "_________________________________________________________________\n",
      "block2_sepconv2_bn (BatchNor (None, 72, 72, 128)       512       \n",
      "_________________________________________________________________\n",
      "block2_pool (MaxPooling2D)   (None, 36, 36, 128)       0         \n",
      "_________________________________________________________________\n",
      "flatten_2 (Flatten)          (None, 165888)            0         \n",
      "_________________________________________________________________\n",
      "dense_3 (Dense)              (None, 256)               42467584  \n",
      "_________________________________________________________________\n",
      "dense_4 (Dense)              (None, 1)                 257       \n",
      "=================================================================\n",
      "Total params: 42,514,849\n",
      "Trainable params: 42,494,657\n",
      "Non-trainable params: 20,192\n",
      "_________________________________________________________________\n"
     ]
    },
    {
     "name": "stderr",
     "output_type": "stream",
     "text": [
      "c:\\users\\user\\anaconda3\\envs\\dsa\\lib\\site-packages\\ipykernel_launcher.py:17: UserWarning: Update your `Model` call to the Keras 2 API: `Model(inputs=Tensor(\"in..., outputs=Tensor(\"de...)`\n"
     ]
    }
   ],
   "source": [
    "# Xception\n",
    "import keras\n",
    "from keras.applications.xception import xception\n",
    "\n",
    "xception = keras.applications.xception.Xception(include_top=False, \n",
    "                                                weights='imagenet', \n",
    "                                                input_shape=(150,150,3))\n",
    "\n",
    "layer_dict = dict([(layer.name, layer) for layer in xception.layers])\n",
    "\n",
    "x = layer_dict['block2_pool'].output\n",
    "x = keras.layers.Flatten()(x)\n",
    "x = keras.layers.Dense(256, activation='relu', )(x)\n",
    "x = keras.layers.Dense(1, activation='sigmoid')(x)\n",
    "\n",
    "from keras.models import Model\n",
    "custom_model = Model(input=xception.input, output=x)\n",
    "\n",
    "for layer in custom_model.layers[:7]:\n",
    "    layer.trainable = False\n",
    "    \n",
    "custom_model.summary()"
   ]
  },
  {
   "cell_type": "code",
   "execution_count": 29,
   "metadata": {
    "ExecuteTime": {
     "end_time": "2020-06-14T13:48:03.816825Z",
     "start_time": "2020-06-14T13:48:03.752996Z"
    }
   },
   "outputs": [],
   "source": [
    "from keras import optimizers\n",
    "sgd = optimizers.SGD(lr=2e-5)\n",
    "\n",
    "custom_model.compile(loss='binary_crossentropy',\n",
    "                     optimizer=sgd,\n",
    "                     metrics=['accuracy'])"
   ]
  },
  {
   "cell_type": "code",
   "execution_count": 30,
   "metadata": {
    "ExecuteTime": {
     "end_time": "2020-06-14T14:41:35.448053Z",
     "start_time": "2020-06-14T13:48:03.818820Z"
    }
   },
   "outputs": [
    {
     "name": "stdout",
     "output_type": "stream",
     "text": [
      "Epoch 1/20\n",
      "63/62 [==============================] - 163s 3s/step - loss: 0.8045 - accuracy: 0.5290 - val_loss: 0.5358 - val_accuracy: 0.5720\n",
      "Epoch 2/20\n",
      "63/62 [==============================] - 160s 3s/step - loss: 0.7143 - accuracy: 0.6020 - val_loss: 0.3628 - val_accuracy: 0.5960\n",
      "Epoch 3/20\n",
      "63/62 [==============================] - 162s 3s/step - loss: 0.7043 - accuracy: 0.6025 - val_loss: 0.4529 - val_accuracy: 0.5730\n",
      "Epoch 4/20\n",
      "63/62 [==============================] - 161s 3s/step - loss: 0.6595 - accuracy: 0.6200 - val_loss: 0.7139 - val_accuracy: 0.5430\n",
      "Epoch 5/20\n",
      "63/62 [==============================] - 161s 3s/step - loss: 0.6715 - accuracy: 0.6180 - val_loss: 0.6844 - val_accuracy: 0.5890\n",
      "Epoch 6/20\n",
      "63/62 [==============================] - 161s 3s/step - loss: 0.6384 - accuracy: 0.6405 - val_loss: 0.5338 - val_accuracy: 0.6360\n",
      "Epoch 7/20\n",
      "63/62 [==============================] - 162s 3s/step - loss: 0.6307 - accuracy: 0.6500 - val_loss: 0.5255 - val_accuracy: 0.5810\n",
      "Epoch 8/20\n",
      "63/62 [==============================] - 160s 3s/step - loss: 0.6158 - accuracy: 0.6615 - val_loss: 0.3569 - val_accuracy: 0.6950\n",
      "Epoch 9/20\n",
      "63/62 [==============================] - 159s 3s/step - loss: 0.6187 - accuracy: 0.6670 - val_loss: 0.4472 - val_accuracy: 0.6530\n",
      "Epoch 10/20\n",
      "63/62 [==============================] - 161s 3s/step - loss: 0.6169 - accuracy: 0.6675 - val_loss: 0.2636 - val_accuracy: 0.7000\n",
      "Epoch 11/20\n",
      "63/62 [==============================] - 160s 3s/step - loss: 0.5957 - accuracy: 0.6860 - val_loss: 0.8429 - val_accuracy: 0.6800\n",
      "Epoch 12/20\n",
      "63/62 [==============================] - 159s 3s/step - loss: 0.6161 - accuracy: 0.6755 - val_loss: 0.3897 - val_accuracy: 0.6850\n",
      "Epoch 13/20\n",
      "63/62 [==============================] - 159s 3s/step - loss: 0.5950 - accuracy: 0.6835 - val_loss: 0.4413 - val_accuracy: 0.6840\n",
      "Epoch 14/20\n",
      "63/62 [==============================] - 160s 3s/step - loss: 0.5957 - accuracy: 0.6875 - val_loss: 0.5418 - val_accuracy: 0.6710\n",
      "Epoch 15/20\n",
      "63/62 [==============================] - 159s 3s/step - loss: 0.5859 - accuracy: 0.6810 - val_loss: 0.3309 - val_accuracy: 0.7200\n",
      "Epoch 16/20\n",
      "63/62 [==============================] - 162s 3s/step - loss: 0.5882 - accuracy: 0.6935 - val_loss: 0.5758 - val_accuracy: 0.6640\n",
      "Epoch 17/20\n",
      "63/62 [==============================] - 160s 3s/step - loss: 0.5818 - accuracy: 0.6945 - val_loss: 0.8137 - val_accuracy: 0.6890\n",
      "Epoch 18/20\n",
      "63/62 [==============================] - 160s 3s/step - loss: 0.5697 - accuracy: 0.7030 - val_loss: 0.8384 - val_accuracy: 0.6750\n",
      "Epoch 19/20\n",
      "63/62 [==============================] - 160s 3s/step - loss: 0.5821 - accuracy: 0.6920 - val_loss: 0.5547 - val_accuracy: 0.6830\n",
      "Epoch 20/20\n",
      "63/62 [==============================] - 162s 3s/step - loss: 0.5586 - accuracy: 0.7055 - val_loss: 0.7329 - val_accuracy: 0.6870\n"
     ]
    }
   ],
   "source": [
    "steps_per_epoch = 2000 / 32\n",
    "validation_steps = 1000 / 32\n",
    "\n",
    "hist = custom_model.fit_generator(generator = training_set,\n",
    "                                  steps_per_epoch = steps_per_epoch,\n",
    "                                  validation_data= valid_set,\n",
    "                                  validation_steps = validation_steps,\n",
    "                                  epochs = 20)"
   ]
  },
  {
   "cell_type": "code",
   "execution_count": 31,
   "metadata": {
    "ExecuteTime": {
     "end_time": "2020-06-14T14:42:01.858415Z",
     "start_time": "2020-06-14T14:41:35.459024Z"
    }
   },
   "outputs": [
    {
     "name": "stdout",
     "output_type": "stream",
     "text": [
      "-- Evaluate --\n",
      "accuracy: 68.70%\n"
     ]
    }
   ],
   "source": [
    "print(\"-- Evaluate --\")\n",
    "scores = custom_model.evaluate_generator(valid_set, steps=validation_steps)\n",
    "print(\"%s: %.2f%%\" %(custom_model.metrics_names[1], scores[1]*100))"
   ]
  },
  {
   "cell_type": "markdown",
   "metadata": {},
   "source": [
    "#### Question 6\n",
    "\n",
    "Use 2 face images of yourself and show what the are classified as. What are the probabilities of each being a dog/cat?"
   ]
  },
  {
   "cell_type": "code",
   "execution_count": 32,
   "metadata": {
    "ExecuteTime": {
     "end_time": "2020-06-14T14:42:02.493717Z",
     "start_time": "2020-06-14T14:42:01.861408Z"
    }
   },
   "outputs": [
    {
     "name": "stdout",
     "output_type": "stream",
     "text": [
      "Found 2 images belonging to 1 classes.\n",
      "-- Predict --\n",
      "1st Image predicted [0.088] class, confidence = cat\n",
      "2nd Image predicted [0.703] class, confidence = dog\n"
     ]
    }
   ],
   "source": [
    "test_datagen = tf.keras.preprocessing.image.ImageDataGenerator(rescale = 1./255)\n",
    "\n",
    "test_set = valid_datagen.flow_from_directory(\"./cats_and_dogs_filtered/test/\",\n",
    "                                              target_size = (150, 150),\n",
    "                                              batch_size = 2,\n",
    "                                              class_mode = 'binary')\n",
    "\n",
    "print(\"-- Predict --\")\n",
    "output = custom_model.predict_generator(test_set, steps=1)\n",
    "np.set_printoptions(formatter={'float': lambda x: \"{0:0.3f}\".format(x)})\n",
    "\n",
    "def class_name (x) : \n",
    "    if x <= 0.5  : \n",
    "        return \"cat\"\n",
    "    else : \n",
    "        return \"dog\"\n",
    "\n",
    "print(\"1st Image predicted {} class, confidence = {}\" .format(output[0], class_name(output[0])))\n",
    "print(\"2nd Image predicted {} class, confidence = {}\" .format(output[1], class_name(output[1])))"
   ]
  },
  {
   "cell_type": "markdown",
   "metadata": {},
   "source": [
    "#### Question 7\n",
    "\n",
    "Theoretically, how should your dogcat classifer perform when it is fed with human face images? What is the correct way to approach the task of classifying human face images? Explain in your own words."
   ]
  },
  {
   "cell_type": "markdown",
   "metadata": {},
   "source": [
    "이론적으로, 분류 문제에서는 학습이 된 레이블에 대해서 예측을 진행하기 때문에, 사람의 이미를 새로운 레이블로 학습을 시켜야, 주어진 이미지에 대해서 사람, 고양이, 개로 분류시킬 수 있다. 현재의 모델은 개와 고양이 2개 중에 어떤 레이블에 더 가까운지 예측하는 모형이기 때문에 어떤 사진이 들어오더라고 개 또는 고양이 중에 한개로 분류하게 된다."
   ]
  },
  {
   "cell_type": "markdown",
   "metadata": {},
   "source": [
    "#### Question 8\n",
    "\n",
    "Fix your code to properly handle the issue of human face image classification in your dog/cat classifier."
   ]
  },
  {
   "cell_type": "code",
   "execution_count": 36,
   "metadata": {
    "ExecuteTime": {
     "end_time": "2020-06-14T14:43:07.832994Z",
     "start_time": "2020-06-14T14:43:07.612489Z"
    }
   },
   "outputs": [
    {
     "name": "stdout",
     "output_type": "stream",
     "text": [
      "Found 2 images belonging to 1 classes.\n",
      "-- Predict --\n",
      "1st Image predicted cat class\n",
      "2nd Image predicted etc class\n"
     ]
    }
   ],
   "source": [
    "# Threshold를 줘서 0.0 ~ 0.2 일 경우에만 cat\n",
    "# 0.8 ~ 1.0 인 경우에만 dog\n",
    "# 나머지는 분류 불가\n",
    "\n",
    "test_datagen = tf.keras.preprocessing.image.ImageDataGenerator(rescale = 1./255)\n",
    "\n",
    "test_set = valid_datagen.flow_from_directory(\"./cats_and_dogs_filtered/test/\",\n",
    "                                              target_size = (150, 150),\n",
    "                                              batch_size = 2,\n",
    "                                              class_mode = 'binary')\n",
    "\n",
    "print(\"-- Predict --\")\n",
    "output = custom_model.predict_generator(test_set, steps=1)\n",
    "np.set_printoptions(formatter={'float': lambda x: \"{0:0.3f}\".format(x)})\n",
    "\n",
    "def class_name (x) : \n",
    "    if x <= 0.2  : \n",
    "        return \"cat\"\n",
    "    elif x >= 0.8 :\n",
    "        return \"dog\"\n",
    "    else : \n",
    "        return \"etc\"\n",
    "\n",
    "print(\"1st Image predicted {} class\" .format(class_name(output[0])))\n",
    "print(\"2nd Image predicted {} class\" .format(class_name(output[1])))"
   ]
  },
  {
   "cell_type": "markdown",
   "metadata": {},
   "source": [
    "#### Question 9\n",
    "\n",
    "is the fixed solution a generalized approach? What happens when fish, bird or panda images are fed into your classifier in Question 8?"
   ]
  },
  {
   "cell_type": "markdown",
   "metadata": {},
   "source": [
    "사람의 이미지와 마찬가지로, 모델을 학습시킬 때 fish나 bird 등의 레이블에 대해서 학습시키지 않는다면, 역시 개 또는 고양이로 분류하게 된다. 그렇기 때문에 각각의 동물들을 잘 분류하기 위해서는 필요한 레이블에 대하여 데이터를 학습시켜야한다."
   ]
  },
  {
   "cell_type": "markdown",
   "metadata": {},
   "source": [
    "#### Question 10\n",
    "\n",
    "How would you handle the different cases presented in Question 9 (fish, bird, or panda images)?"
   ]
  },
  {
   "cell_type": "markdown",
   "metadata": {},
   "source": [
    "현재 상태에서는 fish나 bird 등의 이미지가 없기 때문에 threshold를 주어서 sigmoid의 output 값이 0.0 ~ 0.2 인 경우에는 고양이로 분류, 0.8 ~ 1.0 인 경우에는 개로 분류하고 나머지의 경우 etc라는 새로운 카테고리롤 분류할 수 있다."
   ]
  }
 ],
 "metadata": {
  "kernelspec": {
   "display_name": "Python 3",
   "language": "python",
   "name": "python3"
  },
  "language_info": {
   "codemirror_mode": {
    "name": "ipython",
    "version": 3
   },
   "file_extension": ".py",
   "mimetype": "text/x-python",
   "name": "python",
   "nbconvert_exporter": "python",
   "pygments_lexer": "ipython3",
   "version": "3.6.10"
  },
  "toc": {
   "base_numbering": 1,
   "nav_menu": {},
   "number_sections": false,
   "sideBar": true,
   "skip_h1_title": true,
   "title_cell": "Table of Contents",
   "title_sidebar": "Contents",
   "toc_cell": false,
   "toc_position": {
    "height": "calc(100% - 180px)",
    "left": "10px",
    "top": "150px",
    "width": "359px"
   },
   "toc_section_display": true,
   "toc_window_display": true
  },
  "varInspector": {
   "cols": {
    "lenName": 16,
    "lenType": 16,
    "lenVar": 40
   },
   "kernels_config": {
    "python": {
     "delete_cmd_postfix": "",
     "delete_cmd_prefix": "del ",
     "library": "var_list.py",
     "varRefreshCmd": "print(var_dic_list())"
    },
    "r": {
     "delete_cmd_postfix": ") ",
     "delete_cmd_prefix": "rm(",
     "library": "var_list.r",
     "varRefreshCmd": "cat(var_dic_list()) "
    }
   },
   "position": {
    "height": "823px",
    "left": "1550px",
    "right": "20px",
    "top": "120px",
    "width": "350px"
   },
   "types_to_exclude": [
    "module",
    "function",
    "builtin_function_or_method",
    "instance",
    "_Feature"
   ],
   "window_display": true
  }
 },
 "nbformat": 4,
 "nbformat_minor": 4
}
