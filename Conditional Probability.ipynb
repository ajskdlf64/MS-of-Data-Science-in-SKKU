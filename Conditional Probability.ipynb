{
 "cells": [
  {
   "cell_type": "markdown",
   "metadata": {},
   "source": [
    "# Homework 6"
   ]
  },
  {
   "cell_type": "markdown",
   "metadata": {},
   "source": [
    "## Introduction\n",
    "\n",
    "- **Write down your name and student ID cleary.**\n",
    "    - 박상희, Park Sang Hee, 2020710666\n",
    "\n",
    "\n",
    "- **Upload your work (pdf, word or hwp) on iCampus.**\n",
    "\n",
    "\n",
    "- **For all questions, show your entire work to get full credits.**"
   ]
  },
  {
   "cell_type": "markdown",
   "metadata": {},
   "source": [
    "## Briefly describe your final project progress in terms of : \n",
    "\n",
    " - **a. Dataset**\n",
    "     - 200x200 ~  800x800 사이즈의 다양한 RCB 3 Chanel의 음식 이미지 데이터셋.\n",
    "     - Label은 대분류 27개, 소분류 150개로 이중 분류되어 있음.\n",
    "     - 150개의 각각의 소분류 사진이 1,000개의 이미지가 포함되어, 전체 15,000개의 이미지 데이터셋이 있음.\n",
    "     - 파일 형식은 jpg 파일이며, 용량은 약 5GB.\n",
    "     \n",
    "     \n",
    " - **b. Pre-processing of dataset**\n",
    "     - Flipping the image\n",
    "     - Grayscale the image\n",
    "     - Saturate the image\n",
    "     - Change image brightness\n",
    "     - Rotate the image\n",
    "     - Center crop the image\n",
    "\n",
    "\n",
    " - **c. Baseline Algorithm**\n",
    "     - 원래는 YOLO 등을 이용해, Object Detection과 Objecct Recogniton을 동시에 진행하려고 했으나, 실험 환경과, 이미지의 특성(이미 대부분의 사진들이 음식에 Focus가 맞춰져 편집되어 있음) 등으로 인해 이미지 자체를 Classification 진행.\n",
    "     - MobileNet V2를 사용하여 전이학습을 이용해 학습 진행.\n",
    "     - 기존 CNN 구조는 유지하고, Classification Head만 바꿔 Fine Tunning 진행.\n",
    "\n",
    "\n",
    " - **d. Your approach**\n",
    "     - 150개의 class를 한 번에 분류하는 모델과 그 모델의 27개의 정확도와, 27개의 class로만 분류한 모델을 비교하여, 분류하고자 하는 이미지의 class가 많은 경우, 중간 분류 단계를 거치는게 좋은지, 그렇지 않고 한 번에 분류하는게 좋은지에 대한 성능 비교."
   ]
  },
  {
   "cell_type": "markdown",
   "metadata": {},
   "source": [
    "## Consider: 30 emails are sent, 6 each to 5 users. 10 of the 30 emails are spam. All possible outcomes are equally likely.\n",
    "\n",
    "\n",
    "E = user #1 receives 3 spam emails\n",
    "\n",
    "F = user #2 receives 6 spam emails\n",
    "\n",
    "G = user #3 receives 5 spam emails\n",
    "\n",
    "H = user #4 receives 1 spam emails\n",
    "\n",
    "I = user #5 receives at least 2 spam emails"
   ]
  },
  {
   "cell_type": "markdown",
   "metadata": {},
   "source": [
    "$$P(E) = { _{10}\\mathrm{C}_{3} \\times _{20}\\mathrm{C}_{3} \\times _{24}\\mathrm{C}_{6} \\times _{18}\\mathrm{C}_{6} \\times _{12}\\mathrm{C}_{6} \\times _{6}\\mathrm{C}_{6} \\over  { _{30}\\mathrm{C}_{6} \\times _{24}\\mathrm{C}_{6} \\times _{18}\\mathrm{C}_{6} \\times _{12}\\mathrm{C}_{6} \\times _{6}\\mathrm{C}_{6}}} = 0.2303902993558166$$\n",
    "\n",
    "$$P(F) = { _{10}\\mathrm{C}_{6} \\times _{20}\\mathrm{C}_{0} \\times _{24}\\mathrm{C}_{6} \\times _{18}\\mathrm{C}_{6} \\times _{12}\\mathrm{C}_{6} \\times _{6}\\mathrm{C}_{6} \\over  { _{30}\\mathrm{C}_{6} \\times _{24}\\mathrm{C}_{6} \\times _{18}\\mathrm{C}_{6} \\times _{12}\\mathrm{C}_{6} \\times _{6}\\mathrm{C}_{6}}} = 0.00035366931918656057$$\n",
    "\n",
    "$$P(G) = { _{10}\\mathrm{C}_{5} \\times _{20}\\mathrm{C}_{1} \\times _{24}\\mathrm{C}_{6} \\times _{18}\\mathrm{C}_{6} \\times _{12}\\mathrm{C}_{6} \\times _{6}\\mathrm{C}_{6} \\over  { _{30}\\mathrm{C}_{6} \\times _{24}\\mathrm{C}_{6} \\times _{18}\\mathrm{C}_{6} \\times _{12}\\mathrm{C}_{6} \\times _{6}\\mathrm{C}_{6}}} = 0.008488063660477453$$\n",
    "\n",
    "$$P(H) = { _{10}\\mathrm{C}_{1} \\times _{20}\\mathrm{C}_{5} \\times _{24}\\mathrm{C}_{6} \\times _{18}\\mathrm{C}_{6} \\times _{12}\\mathrm{C}_{6} \\times _{6}\\mathrm{C}_{6} \\over  { _{30}\\mathrm{C}_{6} \\times _{24}\\mathrm{C}_{6} \\times _{18}\\mathrm{C}_{6} \\times _{12}\\mathrm{C}_{6} \\times _{6}\\mathrm{C}_{6}}} = 0.26110900593659214$$\n",
    "\n",
    "$$P(H) = 1 - (0\\,spam, 1\\,spam) = 1 - { _{10}\\mathrm{C}_{0} \\times _{20}\\mathrm{C}_{6} \\times _{24}\\mathrm{C}_{6} \\times _{18}\\mathrm{C}_{6} \\times _{12}\\mathrm{C}_{6} \\times _{6}\\mathrm{C}_{6} \\over  { _{30}\\mathrm{C}_{6} \\times _{24}\\mathrm{C}_{6} \\times _{18}\\mathrm{C}_{6} \\times _{12}\\mathrm{C}_{6} \\times _{6}\\mathrm{C}_{6}}} - 0.26110900593659214$$\n",
    "\n",
    "$$ = 1 - 0.06527725148414804 - 0.26110900593659214 = 0.6736137425792599$$"
   ]
  },
  {
   "cell_type": "markdown",
   "metadata": {},
   "source": [
    "### What is P(G|F)?\n",
    "\n",
    "$$P(G | F) = {{P(G \\cap F)} \\over {P(F)}} = {_{10}\\mathrm{C}_{6} \\times _{4}\\mathrm{C}_{5}  \\times _{20}\\mathrm{C}_{1} \\times _{18}\\mathrm{C}_{6}  \\times _{12}\\mathrm{C}_{6}  \\times _{6}\\mathrm{C}_{6}  \\over _{10}\\mathrm{C}_{6} \\times _{24}\\mathrm{C}_{6}  \\times _{18}\\mathrm{C}_{6} \\times _{12}\\mathrm{C}_{6} \\times _{6}\\mathrm{C}_{6}} = 0$$\n",
    "\n",
    "$$_{4}\\mathrm{C}_{5} = 0$$"
   ]
  },
  {
   "cell_type": "code",
   "execution_count": 1,
   "metadata": {
    "ExecuteTime": {
     "end_time": "2020-05-30T15:47:05.775957Z",
     "start_time": "2020-05-30T15:47:05.761975Z"
    }
   },
   "outputs": [
    {
     "data": {
      "text/plain": [
       "0"
      ]
     },
     "execution_count": 1,
     "metadata": {},
     "output_type": "execute_result"
    }
   ],
   "source": [
    "0"
   ]
  },
  {
   "cell_type": "markdown",
   "metadata": {},
   "source": [
    "### What is P(H|F)? Compare P(H|F) vs. P(E|F) and P(H|F) vs. P(H) and explain which is larger for each case.\n",
    "\n",
    "$$P(H | F) = {{P(H \\cap F)} \\over {P(F)}} = {_{10}\\mathrm{C}_{6} \\times _{4}\\mathrm{C}_{1}  \\times _{20}\\mathrm{C}_{5} \\times _{18}\\mathrm{C}_{6}  \\times _{12}\\mathrm{C}_{6}  \\times _{6}\\mathrm{C}_{6}  \\over _{10}\\mathrm{C}_{6} \\times _{24}\\mathrm{C}_{6}  \\times _{18}\\mathrm{C}_{6} \\times _{12}\\mathrm{C}_{6} \\times _{6}\\mathrm{C}_{6}} = 0.46075663466967814$$\n",
    "\n",
    "$$P(E | F) = {{P(E \\cap F)} \\over {P(F)}} = {_{10}\\mathrm{C}_{6} \\times _{4}\\mathrm{C}_{3}  \\times _{20}\\mathrm{C}_{3} \\times _{18}\\mathrm{C}_{6}  \\times _{12}\\mathrm{C}_{6}  \\times _{6}\\mathrm{C}_{6}  \\over _{10}\\mathrm{C}_{6} \\times _{24}\\mathrm{C}_{6}  \\times _{18}\\mathrm{C}_{6} \\times _{12}\\mathrm{C}_{6} \\times _{6}\\mathrm{C}_{6}} = 0.03387916431394692$$\n",
    "\n",
    "$$P(H) = { _{10}\\mathrm{C}_{1} \\times _{20}\\mathrm{C}_{5} \\times _{24}\\mathrm{C}_{6} \\times _{18}\\mathrm{C}_{6} \\times _{12}\\mathrm{C}_{6} \\times _{6}\\mathrm{C}_{6} \\over  { _{30}\\mathrm{C}_{6} \\times _{24}\\mathrm{C}_{6} \\times _{18}\\mathrm{C}_{6} \\times _{12}\\mathrm{C}_{6} \\times _{6}\\mathrm{C}_{6}}} = 0.26110900593659214$$\n",
    "<br><br>\n",
    "$$P(H|F) >> P(H) >> P(E|F)$$"
   ]
  },
  {
   "cell_type": "code",
   "execution_count": 2,
   "metadata": {
    "ExecuteTime": {
     "end_time": "2020-05-30T15:47:05.787908Z",
     "start_time": "2020-05-30T15:47:05.778929Z"
    }
   },
   "outputs": [
    {
     "data": {
      "text/plain": [
       "0.46075663466967814"
      ]
     },
     "execution_count": 2,
     "metadata": {},
     "output_type": "execute_result"
    }
   ],
   "source": [
    "a = (((10*9*8*7*6*5)/(6*5*4*3*2*1)) * ((4)/(1)) * ((20*19*18*17*16)/(5*4*3*2*1)))\n",
    "b = (((10*9*8*7*6*5)/(6*5*4*3*2*1) * ((24*23*22*21*20*19)/(6*5*4*3*2*1))))\n",
    "a / b"
   ]
  },
  {
   "cell_type": "code",
   "execution_count": 3,
   "metadata": {
    "ExecuteTime": {
     "end_time": "2020-05-30T15:47:05.797879Z",
     "start_time": "2020-05-30T15:47:05.789908Z"
    }
   },
   "outputs": [
    {
     "data": {
      "text/plain": [
       "0.03387916431394692"
      ]
     },
     "execution_count": 3,
     "metadata": {},
     "output_type": "execute_result"
    }
   ],
   "source": [
    "a = (((10*9*8*7*6*5)/(6*5*4*3*2*1)) * ((4*3*2)/(3*2*1)) * ((20*19*18)/(3*2*1)))\n",
    "b = (((10*9*8*7*6*5)/(6*5*4*3*2*1) * ((24*23*22*21*20*19)/(6*5*4*3*2*1))))\n",
    "a / b"
   ]
  },
  {
   "cell_type": "markdown",
   "metadata": {},
   "source": [
    "### What is P(F|H)? Compare P(H|F) vs. p(F|H) and explain which is larger.\n",
    "\n",
    "$$P(F|H) = {{P(F \\cap H)} \\over {P(H)}} = {_{10}\\mathrm{C}_{1} \\times _{20}\\mathrm{C}_{5} \\times _{9}\\mathrm{C}_{6}  \\times _{15}\\mathrm{C}_{0} \\times _{18}\\mathrm{C}_{6}  \\times _{12}\\mathrm{C}_{6}  \\times _{6}\\mathrm{C}_{6}  \\over _{10}\\mathrm{C}_{1} \\times _{20}\\mathrm{C}_{5} \\times _{24}\\mathrm{C}_{6}  \\times _{18}\\mathrm{C}_{6} \\times _{12}\\mathrm{C}_{6} \\times _{6}\\mathrm{C}_{6}} = 0.0006240898689411275$$\n",
    "<br><br>\n",
    "$$P(H|F) = 0.4607 >>> P(F|H) = 0.0006$$"
   ]
  },
  {
   "cell_type": "code",
   "execution_count": 4,
   "metadata": {
    "ExecuteTime": {
     "end_time": "2020-05-30T15:47:05.808850Z",
     "start_time": "2020-05-30T15:47:05.799877Z"
    }
   },
   "outputs": [
    {
     "data": {
      "text/plain": [
       "0.0006240898689411275"
      ]
     },
     "execution_count": 4,
     "metadata": {},
     "output_type": "execute_result"
    }
   ],
   "source": [
    "a = (((10/1) * ((20*19*18*17*16)/(5*4*3*2*1)) * ((9*8*7*6*5*4)/(6*5*4*3*2*1)) * 1))\n",
    "b = ((10/1 * ((20*19*18*17*16)/(5*4*3*2*1)) * ((24*23*22*21*20*19)/(6*5*4*3*2*1))))\n",
    "a / b"
   ]
  },
  {
   "cell_type": "markdown",
   "metadata": {},
   "source": [
    "### What is P(I|E)?"
   ]
  },
  {
   "cell_type": "markdown",
   "metadata": {},
   "source": [
    "$$P(I|E) = {{P(I \\cap E)} \\over {P(E)}} = {_{10}\\mathrm{C}_{3} \\times _{20}\\mathrm{C}_{3} \\times (_{24}\\mathrm{C}_{6} - _{7}\\mathrm{C}_{0} \\times _{17}\\mathrm{C}_{6} - _{7}\\mathrm{C}_{1} \\times _{17}\\mathrm{C}_{5}) \\times _{18}\\mathrm{C}_{6}  \\times _{12}\\mathrm{C}_{6}  \\times _{6}\\mathrm{C}_{6}  \\over _{10}\\mathrm{C}_{3} \\times _{20}\\mathrm{C}_{3} \\times _{24}\\mathrm{C}_{6}  \\times _{18}\\mathrm{C}_{6} \\times _{12}\\mathrm{C}_{6} \\times _{6}\\mathrm{C}_{6}} = 0.5862284168920324$$"
   ]
  },
  {
   "cell_type": "code",
   "execution_count": 5,
   "metadata": {
    "ExecuteTime": {
     "end_time": "2020-05-30T15:47:05.819831Z",
     "start_time": "2020-05-30T15:47:05.811846Z"
    }
   },
   "outputs": [
    {
     "data": {
      "text/plain": [
       "0.5862284168920324"
      ]
     },
     "execution_count": 5,
     "metadata": {},
     "output_type": "execute_result"
    }
   ],
   "source": [
    "a = ((24*23*22*21*20*19)/(6*5*4*3*2*1)) - 1 * ((17*16*15*14*13*12)/(6*5*4*3*2*1)) - 7 * ((17*16*15*14*13)/(5*4*3*2*1))\n",
    "b = ((24*23*22*21*20*19)/(6*5*4*3*2*1))\n",
    "a / b"
   ]
  },
  {
   "cell_type": "markdown",
   "metadata": {},
   "source": [
    "### What is P(I|F)?\n",
    "\n",
    "$$P(I|F) = {{P(I \\cap F)} \\over {P(F)}} = {_{10}\\mathrm{C}_{6} \\times _{20}\\mathrm{C}_{0} \\times (_{24}\\mathrm{C}_{6} - _{4}\\mathrm{C}_{0} \\times _{20}\\mathrm{C}_{6} - _{4}\\mathrm{C}_{1} \\times _{20}\\mathrm{C}_{5}) \\times _{18}\\mathrm{C}_{6}  \\times _{12}\\mathrm{C}_{6}  \\times _{6}\\mathrm{C}_{6}  \\over _{10}\\mathrm{C}_{6} \\times _{20}\\mathrm{C}_{0} \\times _{24}\\mathrm{C}_{6}  \\times _{18}\\mathrm{C}_{6} \\times _{12}\\mathrm{C}_{6} \\times _{6}\\mathrm{C}_{6}} = 0.3482718654343368$$"
   ]
  },
  {
   "cell_type": "code",
   "execution_count": 6,
   "metadata": {
    "ExecuteTime": {
     "end_time": "2020-05-30T15:47:05.830792Z",
     "start_time": "2020-05-30T15:47:05.821815Z"
    }
   },
   "outputs": [
    {
     "data": {
      "text/plain": [
       "0.3482718654343368"
      ]
     },
     "execution_count": 6,
     "metadata": {},
     "output_type": "execute_result"
    }
   ],
   "source": [
    "a = ((24*23*22*21*20*19)/(6*5*4*3*2*1)) - 1 * ((20*19*18*17*16*15)/(6*5*4*3*2*1)) - 4 * ((20*18*17*16*15)/(5*4*3*2*1))\n",
    "b = ((24*23*22*21*20*19)/(6*5*4*3*2*1))\n",
    "a / b"
   ]
  },
  {
   "cell_type": "markdown",
   "metadata": {},
   "source": [
    "## Consider: Hanbin has one more course to take before he graduates with an MS in Applied Data Science: either \"Data Science Application\" or \"Linear Algebra\". He will get an \"A\" with probability 3/4 in \"Data Science Application\" and an \"A\" with probability 3/5 in \"Linear Algebra\". He flips a fair coin to decide whichs course to take.\n",
    "\n",
    "Let's define the event A to be \"he gets an A\""
   ]
  },
  {
   "cell_type": "markdown",
   "metadata": {},
   "source": [
    "### What is P(A)?\n",
    "\n",
    "$$P(A) = P(COIN = Head) \\times P(Data Science Application = \"A\") +  P(COIN = Tail) \\times P(Linear Algebra = \"A\")$$\n",
    "\n",
    "$$P(A) = {1 \\over 2} \\times {3 \\over 4} +  {1 \\over 2} \\times {3 \\over 5}$$"
   ]
  },
  {
   "cell_type": "code",
   "execution_count": 7,
   "metadata": {
    "ExecuteTime": {
     "end_time": "2020-05-30T15:47:05.840766Z",
     "start_time": "2020-05-30T15:47:05.834782Z"
    }
   },
   "outputs": [
    {
     "data": {
      "text/plain": [
       "0.675"
      ]
     },
     "execution_count": 7,
     "metadata": {},
     "output_type": "execute_result"
    }
   ],
   "source": [
    "(1/2)*(3/4) + (1/2)*(3/5)"
   ]
  },
  {
   "cell_type": "markdown",
   "metadata": {},
   "source": [
    "### What is P(Data Science Application | A)?\n",
    "\n",
    "$$P(Data Science Application | A) = {{P(Data Science Application \\cap A)} \\over {P(A)}}$$\n",
    "\n",
    "$$P(Data Science Application | A) = {{{1\\over2}\\times{3\\over4}} \\over {{1\\over2}\\times{3\\over4} + {1\\over2}\\times{3\\over5}}}$$"
   ]
  },
  {
   "cell_type": "code",
   "execution_count": 8,
   "metadata": {
    "ExecuteTime": {
     "end_time": "2020-05-30T15:47:05.850738Z",
     "start_time": "2020-05-30T15:47:05.842760Z"
    }
   },
   "outputs": [
    {
     "data": {
      "text/plain": [
       "0.5555555555555555"
      ]
     },
     "execution_count": 8,
     "metadata": {},
     "output_type": "execute_result"
    }
   ],
   "source": [
    "((1/2)*(3/4)) / ((1/2)*(3/4) + (1/2)*(3/5))"
   ]
  },
  {
   "cell_type": "markdown",
   "metadata": {},
   "source": [
    "### What is P(Linear Algebra | A)?\n",
    "\n",
    "$$P(Linear Algebra | A) = {{P(Linear Algebra \\cap A)} \\over {P(A)}}$$\n",
    "\n",
    "$$P(Linear Algebra | A) = {{{1\\over2}\\times{3\\over5}} \\over {{1\\over2}\\times{3\\over4} + {1\\over2}\\times{3\\over5}}}$$"
   ]
  },
  {
   "cell_type": "code",
   "execution_count": 9,
   "metadata": {
    "ExecuteTime": {
     "end_time": "2020-05-30T15:47:05.861708Z",
     "start_time": "2020-05-30T15:47:05.853730Z"
    }
   },
   "outputs": [
    {
     "data": {
      "text/plain": [
       "0.4444444444444444"
      ]
     },
     "execution_count": 9,
     "metadata": {},
     "output_type": "execute_result"
    }
   ],
   "source": [
    "((1/2)*(3/5)) / ((1/2)*(3/4) + (1/2)*(3/5))"
   ]
  },
  {
   "cell_type": "markdown",
   "metadata": {},
   "source": [
    "## Instead of a fair coin, he uses an unfair coin to decide which course to take, where P(Data Science Application) = 3/4 and P(Linear Algebra) = 1/4."
   ]
  },
  {
   "cell_type": "markdown",
   "metadata": {},
   "source": [
    "### What is P(A)?\n",
    "\n",
    "$$P(A) = P(COIN = Head) \\times P(Data Science Application = \"A\") +  P(COIN = Tail) \\times P(Linear Algebra = \"A\")$$\n",
    "\n",
    "$$P(A) = {{3 \\over 4} \\times {3 \\over 4}} + {{1 \\over 4} \\times {3 \\over 5}}$$"
   ]
  },
  {
   "cell_type": "code",
   "execution_count": 10,
   "metadata": {
    "ExecuteTime": {
     "end_time": "2020-05-30T15:47:05.870686Z",
     "start_time": "2020-05-30T15:47:05.864701Z"
    }
   },
   "outputs": [
    {
     "data": {
      "text/plain": [
       "0.7125"
      ]
     },
     "execution_count": 10,
     "metadata": {},
     "output_type": "execute_result"
    }
   ],
   "source": [
    "(3/4)*(3/4) + (1/4)*(3/5)"
   ]
  },
  {
   "cell_type": "markdown",
   "metadata": {},
   "source": [
    "### What is E[A] assuming \"A = 4.0\" for your course grade?"
   ]
  },
  {
   "cell_type": "code",
   "execution_count": 11,
   "metadata": {
    "ExecuteTime": {
     "end_time": "2020-05-30T15:47:05.879661Z",
     "start_time": "2020-05-30T15:47:05.873678Z"
    }
   },
   "outputs": [
    {
     "data": {
      "text/plain": [
       "2.85"
      ]
     },
     "execution_count": 11,
     "metadata": {},
     "output_type": "execute_result"
    }
   ],
   "source": [
    "0.7125 * 4.0 + (1-0.7125) * 0.0"
   ]
  }
 ],
 "metadata": {
  "kernelspec": {
   "display_name": "Python 3",
   "language": "python",
   "name": "python3"
  },
  "language_info": {
   "codemirror_mode": {
    "name": "ipython",
    "version": 3
   },
   "file_extension": ".py",
   "mimetype": "text/x-python",
   "name": "python",
   "nbconvert_exporter": "python",
   "pygments_lexer": "ipython3",
   "version": "3.6.9"
  },
  "toc": {
   "base_numbering": 1,
   "nav_menu": {},
   "number_sections": true,
   "sideBar": true,
   "skip_h1_title": true,
   "title_cell": "Table of Contents",
   "title_sidebar": "Contents",
   "toc_cell": false,
   "toc_position": {},
   "toc_section_display": true,
   "toc_window_display": false
  },
  "varInspector": {
   "cols": {
    "lenName": 16,
    "lenType": 16,
    "lenVar": 40
   },
   "kernels_config": {
    "python": {
     "delete_cmd_postfix": "",
     "delete_cmd_prefix": "del ",
     "library": "var_list.py",
     "varRefreshCmd": "print(var_dic_list())"
    },
    "r": {
     "delete_cmd_postfix": ") ",
     "delete_cmd_prefix": "rm(",
     "library": "var_list.r",
     "varRefreshCmd": "cat(var_dic_list()) "
    }
   },
   "types_to_exclude": [
    "module",
    "function",
    "builtin_function_or_method",
    "instance",
    "_Feature"
   ],
   "window_display": false
  }
 },
 "nbformat": 4,
 "nbformat_minor": 2
}
