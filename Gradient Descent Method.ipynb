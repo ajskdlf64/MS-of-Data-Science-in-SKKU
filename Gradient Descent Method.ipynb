{
 "cells": [
  {
   "cell_type": "code",
   "execution_count": 1,
   "metadata": {},
   "outputs": [
    {
     "name": "stdout",
     "output_type": "stream",
     "text": [
      "w2 = -1.0000, w1 = 2.4999, w0 = 0.0000\n"
     ]
    }
   ],
   "source": [
    "# Data\n",
    "import numpy as np\n",
    "data = np.array([[0.0,0.0], [1.0,1.0], [1.0,2.0], [2.0,1.0]])\n",
    "\n",
    "# Weight\n",
    "import random\n",
    "w2, w1, w0 = random.random(), random.random(), random.random()\n",
    "\n",
    "# Hyper Parameter\n",
    "lr = 0.01\n",
    "epochs = 3000\n",
    "\n",
    "# Learning\n",
    "for epoch in range(epochs+1) : \n",
    "\n",
    "    # Partial differential\n",
    "    gw2, gw1, gw0 = 0, 0, 0\n",
    "        \n",
    "    for idx in range(len(data)) : \n",
    "        \n",
    "        gw0 = gw0 -2 * (data[idx][1] - w2*data[idx][0]*data[idx][0] - w1*data[idx][0] - w0)\n",
    "        gw1 = gw1 -2 * (data[idx][1] - w2*data[idx][0]*data[idx][0] - w1*data[idx][0] - w0) * data[idx][0]\n",
    "        gw2 = gw2 -2 * (data[idx][1] - w2*data[idx][0]*data[idx][0] - w1*data[idx][0] - w0) * data[idx][0] * data[idx][0]\n",
    "\n",
    "    w2, w1, w0 = w2 - lr * gw2, w1 - lr * gw1, w0 - lr * gw0\n",
    "\n",
    "# Result\n",
    "print('w2 = {:.4f}, w1 = {:.4f}, w0 = {:.4f}' .format(w2, w1, w0))"
   ]
  }
 ],
 "metadata": {
  "kernelspec": {
   "display_name": "Python 3",
   "language": "python",
   "name": "python3"
  },
  "language_info": {
   "codemirror_mode": {
    "name": "ipython",
    "version": 3
   },
   "file_extension": ".py",
   "mimetype": "text/x-python",
   "name": "python",
   "nbconvert_exporter": "python",
   "pygments_lexer": "ipython3",
   "version": "3.6.9"
  }
 },
 "nbformat": 4,
 "nbformat_minor": 2
}
