{
 "cells": [
  {
   "cell_type": "markdown",
   "metadata": {},
   "source": [
    "# HW4. SVM classification and data-driven password analysis\n",
    "\n",
    "\n",
    "***You are given three different password datasets: a.txt, b.txt, and c.txt. Use the SVM package from scikit-learn (https://scikit-learn.org/stable/modules/svm.html) and python code to answer the following questions. Submit your code with a readme file that describes how to run and reproduce the results.***\n",
    "\n",
    "Note: Passwords are said to be 3class8, if passwords are at least 8 characters long and contain at least 3-character classes (lowercase letters, uppercase letters, digits, and special characters). Also, choose the best hyper-parameters and kernel settings for your SVM to yield the best performance."
   ]
  },
  {
   "cell_type": "markdown",
   "metadata": {},
   "source": [
    "### 1. (Pre-processing) For each password, add the following 5 features (password length, number of uppercase letters, number of digits, number of special characters, and 3class8) separated by comma and rename each file into a.txt.feature, b.txt.feature, and c.txt.feature, respectively. If passwords are 3class8, then label = 1; otherwise, label = 0. Submit a.txt.feature, b.txt.feature, and c.txt.feature files.\n",
    "\n",
    "\n",
    "Example:\n",
    "\n",
    "Password, Length, Number of UpperCase, Number of Digits, Number of Special Characters, 3class8\n",
    "\n",
    "!2QqWwee, 8, 2, 1, 1, 1\n",
    "\n",
    "!Hihellohi!, 11, 1, 0, 2, 1\n",
    "\n",
    "11111111, 8, 0, 8, 0, 0\n",
    "\n",
    "12345678, 8, 0, 8, 0, 0"
   ]
  },
  {
   "cell_type": "code",
   "execution_count": 1,
   "metadata": {},
   "outputs": [],
   "source": [
    "import pandas as pd\n",
    "import numpy as np\n",
    "\n",
    "data_a = pd.read_csv('./a.txt', names=['Password'])\n",
    "data_b = pd.read_csv('./b.txt', names=['Password'])\n",
    "data_c = pd.read_csv('./c.txt', names=['Password'])"
   ]
  },
  {
   "cell_type": "code",
   "execution_count": 2,
   "metadata": {},
   "outputs": [],
   "source": [
    "data_a['Length'] = data_a['Password'].apply(lambda x : len(str(x)))\n",
    "data_b['Length'] = data_b['Password'].apply(lambda x : len(str(x)))\n",
    "data_c['Length'] = data_c['Password'].apply(lambda x : len(str(x)))"
   ]
  },
  {
   "cell_type": "code",
   "execution_count": 3,
   "metadata": {},
   "outputs": [],
   "source": [
    "def UPPER_COUNT(x) :\n",
    "    x = str(x)\n",
    "    return x.count('A') + x.count('B') + x.count('C') + x.count('D') + x.count('E') + x.count('F') + x.count('G') +\\\n",
    "            x.count('H') + x.count('I') + x.count('J') + x.count('K') + x.count('L') + x.count('M') + x.count('N') +\\\n",
    "            x.count('O') + x.count('P') + x.count('Q') + x.count('R') + x.count('S') + x.count('T') + x.count('U') +\\\n",
    "            x.count('V') + x.count('W') + x.count('X') + x.count('Y') + x.count('Z')"
   ]
  },
  {
   "cell_type": "code",
   "execution_count": 4,
   "metadata": {},
   "outputs": [],
   "source": [
    "data_a['Number of UpperCase'] = data_a['Password'].apply(lambda x : UPPER_COUNT(x))\n",
    "data_b['Number of UpperCase'] = data_b['Password'].apply(lambda x : UPPER_COUNT(x))\n",
    "data_c['Number of UpperCase'] = data_c['Password'].apply(lambda x : UPPER_COUNT(x))"
   ]
  },
  {
   "cell_type": "code",
   "execution_count": 5,
   "metadata": {},
   "outputs": [],
   "source": [
    "import re\n",
    "\n",
    "def Number_of_Digits(x) : \n",
    "    \n",
    "    x = str(x)\n",
    "\n",
    "    number = re.findall('\\d+', x)\n",
    "    \n",
    "    if len(number) != 0 : \n",
    "        return len(str(max(number)))\n",
    "    else : \n",
    "        return 0"
   ]
  },
  {
   "cell_type": "code",
   "execution_count": 6,
   "metadata": {},
   "outputs": [],
   "source": [
    "data_a['Number of Digits'] = data_a['Password'].apply(lambda x : Number_of_Digits(x))\n",
    "data_b['Number of Digits'] = data_b['Password'].apply(lambda x : Number_of_Digits(x))\n",
    "data_c['Number of Digits'] = data_c['Password'].apply(lambda x : Number_of_Digits(x))"
   ]
  },
  {
   "cell_type": "code",
   "execution_count": 7,
   "metadata": {},
   "outputs": [],
   "source": [
    "def Number_of_Special_Characters(x) : \n",
    "        \n",
    "    x = str(x)\n",
    "    \n",
    "    return x.count('!') + x.count('@') + x.count('#') + x.count('$') + x.count('%') + x.count('^') + x.count('&') +\\\n",
    "            x.count('*') + x.count('`')"
   ]
  },
  {
   "cell_type": "code",
   "execution_count": 8,
   "metadata": {},
   "outputs": [],
   "source": [
    "data_a['Number of Special Characters'] = data_a['Password'].apply(lambda x : Number_of_Special_Characters(x))\n",
    "data_b['Number of Special Characters'] = data_b['Password'].apply(lambda x : Number_of_Special_Characters(x))\n",
    "data_c['Number of Special Characters'] = data_c['Password'].apply(lambda x : Number_of_Special_Characters(x))"
   ]
  },
  {
   "cell_type": "code",
   "execution_count": 9,
   "metadata": {},
   "outputs": [],
   "source": [
    "def class_num(x) : \n",
    "    \n",
    "    class_num = 0\n",
    "    \n",
    "    x = str(x)\n",
    "    \n",
    "    if any(sym in x for sym in '!@#$%^&*`') : \n",
    "        class_num += 1\n",
    "    if any(sym in x for sym in '0123456789') : \n",
    "        class_num += 1\n",
    "    if any(sym in x for sym in 'abcdefghijklmnopqrstuvwxyz') : \n",
    "        class_num += 1\n",
    "    if any(sym in x for sym in 'ABCDEFGHIJKLMNOPQRSTUVWXYZ') : \n",
    "        class_num += 1\n",
    "        \n",
    "    if class_num >= 3  and len(x) >= 8 : \n",
    "        return 1\n",
    "    else : \n",
    "        return 0"
   ]
  },
  {
   "cell_type": "code",
   "execution_count": 10,
   "metadata": {},
   "outputs": [],
   "source": [
    "data_a['3class8'] = data_a['Password'].apply(lambda x : class_num(x))\n",
    "data_b['3class8'] = data_b['Password'].apply(lambda x : class_num(x))\n",
    "data_c['3class8'] = data_c['Password'].apply(lambda x : class_num(x))"
   ]
  },
  {
   "cell_type": "code",
   "execution_count": 11,
   "metadata": {
    "scrolled": false
   },
   "outputs": [
    {
     "data": {
      "text/html": [
       "<div>\n",
       "<style scoped>\n",
       "    .dataframe tbody tr th:only-of-type {\n",
       "        vertical-align: middle;\n",
       "    }\n",
       "\n",
       "    .dataframe tbody tr th {\n",
       "        vertical-align: top;\n",
       "    }\n",
       "\n",
       "    .dataframe thead th {\n",
       "        text-align: right;\n",
       "    }\n",
       "</style>\n",
       "<table border=\"1\" class=\"dataframe\">\n",
       "  <thead>\n",
       "    <tr style=\"text-align: right;\">\n",
       "      <th></th>\n",
       "      <th>Password</th>\n",
       "      <th>Length</th>\n",
       "      <th>Number of UpperCase</th>\n",
       "      <th>Number of Digits</th>\n",
       "      <th>Number of Special Characters</th>\n",
       "      <th>3class8</th>\n",
       "    </tr>\n",
       "  </thead>\n",
       "  <tbody>\n",
       "    <tr>\n",
       "      <th>0</th>\n",
       "      <td>!2QqWwee</td>\n",
       "      <td>8</td>\n",
       "      <td>2</td>\n",
       "      <td>1</td>\n",
       "      <td>1</td>\n",
       "      <td>1</td>\n",
       "    </tr>\n",
       "    <tr>\n",
       "      <th>1</th>\n",
       "      <td>!Hihellohi!</td>\n",
       "      <td>11</td>\n",
       "      <td>1</td>\n",
       "      <td>0</td>\n",
       "      <td>2</td>\n",
       "      <td>1</td>\n",
       "    </tr>\n",
       "    <tr>\n",
       "      <th>2</th>\n",
       "      <td>!devilyloco19</td>\n",
       "      <td>13</td>\n",
       "      <td>0</td>\n",
       "      <td>2</td>\n",
       "      <td>1</td>\n",
       "      <td>1</td>\n",
       "    </tr>\n",
       "    <tr>\n",
       "      <th>3</th>\n",
       "      <td>!p1f&amp;9stephanus{/</td>\n",
       "      <td>17</td>\n",
       "      <td>0</td>\n",
       "      <td>1</td>\n",
       "      <td>2</td>\n",
       "      <td>1</td>\n",
       "    </tr>\n",
       "    <tr>\n",
       "      <th>4</th>\n",
       "      <td>#7X8NY&amp;w*B</td>\n",
       "      <td>10</td>\n",
       "      <td>4</td>\n",
       "      <td>1</td>\n",
       "      <td>3</td>\n",
       "      <td>1</td>\n",
       "    </tr>\n",
       "    <tr>\n",
       "      <th>...</th>\n",
       "      <td>...</td>\n",
       "      <td>...</td>\n",
       "      <td>...</td>\n",
       "      <td>...</td>\n",
       "      <td>...</td>\n",
       "      <td>...</td>\n",
       "    </tr>\n",
       "    <tr>\n",
       "      <th>1126</th>\n",
       "      <td>*Karlagrl**</td>\n",
       "      <td>11</td>\n",
       "      <td>1</td>\n",
       "      <td>0</td>\n",
       "      <td>3</td>\n",
       "      <td>1</td>\n",
       "    </tr>\n",
       "    <tr>\n",
       "      <th>1127</th>\n",
       "      <td>13.96.93.</td>\n",
       "      <td>9</td>\n",
       "      <td>0</td>\n",
       "      <td>2</td>\n",
       "      <td>0</td>\n",
       "      <td>0</td>\n",
       "    </tr>\n",
       "    <tr>\n",
       "      <th>1128</th>\n",
       "      <td>DARIE LUET</td>\n",
       "      <td>10</td>\n",
       "      <td>9</td>\n",
       "      <td>0</td>\n",
       "      <td>0</td>\n",
       "      <td>0</td>\n",
       "    </tr>\n",
       "    <tr>\n",
       "      <th>1129</th>\n",
       "      <td>L7KNDjge</td>\n",
       "      <td>8</td>\n",
       "      <td>4</td>\n",
       "      <td>1</td>\n",
       "      <td>0</td>\n",
       "      <td>1</td>\n",
       "    </tr>\n",
       "    <tr>\n",
       "      <th>1130</th>\n",
       "      <td>100%enilem</td>\n",
       "      <td>10</td>\n",
       "      <td>0</td>\n",
       "      <td>3</td>\n",
       "      <td>1</td>\n",
       "      <td>1</td>\n",
       "    </tr>\n",
       "  </tbody>\n",
       "</table>\n",
       "<p>1131 rows × 6 columns</p>\n",
       "</div>"
      ],
      "text/plain": [
       "               Password  Length  Number of UpperCase  Number of Digits  \\\n",
       "0              !2QqWwee       8                    2                 1   \n",
       "1           !Hihellohi!      11                    1                 0   \n",
       "2         !devilyloco19      13                    0                 2   \n",
       "3     !p1f&9stephanus{/      17                    0                 1   \n",
       "4            #7X8NY&w*B      10                    4                 1   \n",
       "...                 ...     ...                  ...               ...   \n",
       "1126        *Karlagrl**      11                    1                 0   \n",
       "1127          13.96.93.       9                    0                 2   \n",
       "1128         DARIE LUET      10                    9                 0   \n",
       "1129           L7KNDjge       8                    4                 1   \n",
       "1130         100%enilem      10                    0                 3   \n",
       "\n",
       "      Number of Special Characters  3class8  \n",
       "0                                1        1  \n",
       "1                                2        1  \n",
       "2                                1        1  \n",
       "3                                2        1  \n",
       "4                                3        1  \n",
       "...                            ...      ...  \n",
       "1126                             3        1  \n",
       "1127                             0        0  \n",
       "1128                             0        0  \n",
       "1129                             0        1  \n",
       "1130                             1        1  \n",
       "\n",
       "[1131 rows x 6 columns]"
      ]
     },
     "execution_count": 11,
     "metadata": {},
     "output_type": "execute_result"
    }
   ],
   "source": [
    "data_a"
   ]
  },
  {
   "cell_type": "code",
   "execution_count": 12,
   "metadata": {},
   "outputs": [
    {
     "data": {
      "text/html": [
       "<div>\n",
       "<style scoped>\n",
       "    .dataframe tbody tr th:only-of-type {\n",
       "        vertical-align: middle;\n",
       "    }\n",
       "\n",
       "    .dataframe tbody tr th {\n",
       "        vertical-align: top;\n",
       "    }\n",
       "\n",
       "    .dataframe thead th {\n",
       "        text-align: right;\n",
       "    }\n",
       "</style>\n",
       "<table border=\"1\" class=\"dataframe\">\n",
       "  <thead>\n",
       "    <tr style=\"text-align: right;\">\n",
       "      <th></th>\n",
       "      <th>Password</th>\n",
       "      <th>Length</th>\n",
       "      <th>Number of UpperCase</th>\n",
       "      <th>Number of Digits</th>\n",
       "      <th>Number of Special Characters</th>\n",
       "      <th>3class8</th>\n",
       "    </tr>\n",
       "  </thead>\n",
       "  <tbody>\n",
       "    <tr>\n",
       "      <th>0</th>\n",
       "      <td>11111111</td>\n",
       "      <td>8</td>\n",
       "      <td>0</td>\n",
       "      <td>8</td>\n",
       "      <td>0</td>\n",
       "      <td>0</td>\n",
       "    </tr>\n",
       "    <tr>\n",
       "      <th>1</th>\n",
       "      <td>12345678</td>\n",
       "      <td>8</td>\n",
       "      <td>0</td>\n",
       "      <td>8</td>\n",
       "      <td>0</td>\n",
       "      <td>0</td>\n",
       "    </tr>\n",
       "    <tr>\n",
       "      <th>2</th>\n",
       "      <td>123456aa</td>\n",
       "      <td>8</td>\n",
       "      <td>0</td>\n",
       "      <td>6</td>\n",
       "      <td>0</td>\n",
       "      <td>0</td>\n",
       "    </tr>\n",
       "    <tr>\n",
       "      <th>3</th>\n",
       "      <td>1234abcd</td>\n",
       "      <td>8</td>\n",
       "      <td>0</td>\n",
       "      <td>4</td>\n",
       "      <td>0</td>\n",
       "      <td>0</td>\n",
       "    </tr>\n",
       "    <tr>\n",
       "      <th>4</th>\n",
       "      <td>1715</td>\n",
       "      <td>4</td>\n",
       "      <td>0</td>\n",
       "      <td>4</td>\n",
       "      <td>0</td>\n",
       "      <td>0</td>\n",
       "    </tr>\n",
       "    <tr>\n",
       "      <th>...</th>\n",
       "      <td>...</td>\n",
       "      <td>...</td>\n",
       "      <td>...</td>\n",
       "      <td>...</td>\n",
       "      <td>...</td>\n",
       "      <td>...</td>\n",
       "    </tr>\n",
       "    <tr>\n",
       "      <th>2103</th>\n",
       "      <td>Millerester7</td>\n",
       "      <td>12</td>\n",
       "      <td>1</td>\n",
       "      <td>1</td>\n",
       "      <td>0</td>\n",
       "      <td>1</td>\n",
       "    </tr>\n",
       "    <tr>\n",
       "      <th>2104</th>\n",
       "      <td>Ilove2106</td>\n",
       "      <td>9</td>\n",
       "      <td>1</td>\n",
       "      <td>4</td>\n",
       "      <td>0</td>\n",
       "      <td>1</td>\n",
       "    </tr>\n",
       "    <tr>\n",
       "      <th>2105</th>\n",
       "      <td>Allahia1</td>\n",
       "      <td>8</td>\n",
       "      <td>1</td>\n",
       "      <td>1</td>\n",
       "      <td>0</td>\n",
       "      <td>1</td>\n",
       "    </tr>\n",
       "    <tr>\n",
       "      <th>2106</th>\n",
       "      <td>Rachel2908</td>\n",
       "      <td>10</td>\n",
       "      <td>1</td>\n",
       "      <td>4</td>\n",
       "      <td>0</td>\n",
       "      <td>1</td>\n",
       "    </tr>\n",
       "    <tr>\n",
       "      <th>2107</th>\n",
       "      <td>Terrier2</td>\n",
       "      <td>8</td>\n",
       "      <td>1</td>\n",
       "      <td>1</td>\n",
       "      <td>0</td>\n",
       "      <td>1</td>\n",
       "    </tr>\n",
       "  </tbody>\n",
       "</table>\n",
       "<p>2108 rows × 6 columns</p>\n",
       "</div>"
      ],
      "text/plain": [
       "          Password  Length  Number of UpperCase  Number of Digits  \\\n",
       "0         11111111       8                    0                 8   \n",
       "1         12345678       8                    0                 8   \n",
       "2         123456aa       8                    0                 6   \n",
       "3         1234abcd       8                    0                 4   \n",
       "4             1715       4                    0                 4   \n",
       "...            ...     ...                  ...               ...   \n",
       "2103  Millerester7      12                    1                 1   \n",
       "2104     Ilove2106       9                    1                 4   \n",
       "2105      Allahia1       8                    1                 1   \n",
       "2106    Rachel2908      10                    1                 4   \n",
       "2107      Terrier2       8                    1                 1   \n",
       "\n",
       "      Number of Special Characters  3class8  \n",
       "0                                0        0  \n",
       "1                                0        0  \n",
       "2                                0        0  \n",
       "3                                0        0  \n",
       "4                                0        0  \n",
       "...                            ...      ...  \n",
       "2103                             0        1  \n",
       "2104                             0        1  \n",
       "2105                             0        1  \n",
       "2106                             0        1  \n",
       "2107                             0        1  \n",
       "\n",
       "[2108 rows x 6 columns]"
      ]
     },
     "execution_count": 12,
     "metadata": {},
     "output_type": "execute_result"
    }
   ],
   "source": [
    "data_b"
   ]
  },
  {
   "cell_type": "code",
   "execution_count": 13,
   "metadata": {},
   "outputs": [
    {
     "data": {
      "text/html": [
       "<div>\n",
       "<style scoped>\n",
       "    .dataframe tbody tr th:only-of-type {\n",
       "        vertical-align: middle;\n",
       "    }\n",
       "\n",
       "    .dataframe tbody tr th {\n",
       "        vertical-align: top;\n",
       "    }\n",
       "\n",
       "    .dataframe thead th {\n",
       "        text-align: right;\n",
       "    }\n",
       "</style>\n",
       "<table border=\"1\" class=\"dataframe\">\n",
       "  <thead>\n",
       "    <tr style=\"text-align: right;\">\n",
       "      <th></th>\n",
       "      <th>Password</th>\n",
       "      <th>Length</th>\n",
       "      <th>Number of UpperCase</th>\n",
       "      <th>Number of Digits</th>\n",
       "      <th>Number of Special Characters</th>\n",
       "      <th>3class8</th>\n",
       "    </tr>\n",
       "  </thead>\n",
       "  <tbody>\n",
       "    <tr>\n",
       "      <th>0</th>\n",
       "      <td>!!sweetness!!</td>\n",
       "      <td>13</td>\n",
       "      <td>0</td>\n",
       "      <td>0</td>\n",
       "      <td>4</td>\n",
       "      <td>0</td>\n",
       "    </tr>\n",
       "    <tr>\n",
       "      <th>1</th>\n",
       "      <td>!1assword</td>\n",
       "      <td>9</td>\n",
       "      <td>0</td>\n",
       "      <td>1</td>\n",
       "      <td>1</td>\n",
       "      <td>1</td>\n",
       "    </tr>\n",
       "    <tr>\n",
       "      <th>2</th>\n",
       "      <td>!@#$1234qwer</td>\n",
       "      <td>12</td>\n",
       "      <td>0</td>\n",
       "      <td>4</td>\n",
       "      <td>4</td>\n",
       "      <td>1</td>\n",
       "    </tr>\n",
       "    <tr>\n",
       "      <th>3</th>\n",
       "      <td>!@#Qweasd</td>\n",
       "      <td>9</td>\n",
       "      <td>1</td>\n",
       "      <td>0</td>\n",
       "      <td>3</td>\n",
       "      <td>1</td>\n",
       "    </tr>\n",
       "    <tr>\n",
       "      <th>4</th>\n",
       "      <td>!@#jkl@me</td>\n",
       "      <td>9</td>\n",
       "      <td>0</td>\n",
       "      <td>0</td>\n",
       "      <td>4</td>\n",
       "      <td>0</td>\n",
       "    </tr>\n",
       "    <tr>\n",
       "      <th>...</th>\n",
       "      <td>...</td>\n",
       "      <td>...</td>\n",
       "      <td>...</td>\n",
       "      <td>...</td>\n",
       "      <td>...</td>\n",
       "      <td>...</td>\n",
       "    </tr>\n",
       "    <tr>\n",
       "      <th>2271</th>\n",
       "      <td>zebra.sock</td>\n",
       "      <td>10</td>\n",
       "      <td>0</td>\n",
       "      <td>0</td>\n",
       "      <td>0</td>\n",
       "      <td>0</td>\n",
       "    </tr>\n",
       "    <tr>\n",
       "      <th>2272</th>\n",
       "      <td>zoey1986</td>\n",
       "      <td>8</td>\n",
       "      <td>0</td>\n",
       "      <td>4</td>\n",
       "      <td>0</td>\n",
       "      <td>0</td>\n",
       "    </tr>\n",
       "    <tr>\n",
       "      <th>2273</th>\n",
       "      <td>zoeythedog1</td>\n",
       "      <td>11</td>\n",
       "      <td>0</td>\n",
       "      <td>1</td>\n",
       "      <td>0</td>\n",
       "      <td>0</td>\n",
       "    </tr>\n",
       "    <tr>\n",
       "      <th>2274</th>\n",
       "      <td>zurg1219</td>\n",
       "      <td>8</td>\n",
       "      <td>0</td>\n",
       "      <td>4</td>\n",
       "      <td>0</td>\n",
       "      <td>0</td>\n",
       "    </tr>\n",
       "    <tr>\n",
       "      <th>2275</th>\n",
       "      <td>zyx123abc</td>\n",
       "      <td>9</td>\n",
       "      <td>0</td>\n",
       "      <td>3</td>\n",
       "      <td>0</td>\n",
       "      <td>0</td>\n",
       "    </tr>\n",
       "  </tbody>\n",
       "</table>\n",
       "<p>2276 rows × 6 columns</p>\n",
       "</div>"
      ],
      "text/plain": [
       "           Password  Length  Number of UpperCase  Number of Digits  \\\n",
       "0     !!sweetness!!      13                    0                 0   \n",
       "1         !1assword       9                    0                 1   \n",
       "2      !@#$1234qwer      12                    0                 4   \n",
       "3         !@#Qweasd       9                    1                 0   \n",
       "4         !@#jkl@me       9                    0                 0   \n",
       "...             ...     ...                  ...               ...   \n",
       "2271     zebra.sock      10                    0                 0   \n",
       "2272       zoey1986       8                    0                 4   \n",
       "2273    zoeythedog1      11                    0                 1   \n",
       "2274       zurg1219       8                    0                 4   \n",
       "2275      zyx123abc       9                    0                 3   \n",
       "\n",
       "      Number of Special Characters  3class8  \n",
       "0                                4        0  \n",
       "1                                1        1  \n",
       "2                                4        1  \n",
       "3                                3        1  \n",
       "4                                4        0  \n",
       "...                            ...      ...  \n",
       "2271                             0        0  \n",
       "2272                             0        0  \n",
       "2273                             0        0  \n",
       "2274                             0        0  \n",
       "2275                             0        0  \n",
       "\n",
       "[2276 rows x 6 columns]"
      ]
     },
     "execution_count": 13,
     "metadata": {},
     "output_type": "execute_result"
    }
   ],
   "source": [
    "data_c"
   ]
  },
  {
   "cell_type": "markdown",
   "metadata": {},
   "source": [
    "### 2. (Analysis) How many passwords are 3class8 in each file?"
   ]
  },
  {
   "cell_type": "code",
   "execution_count": 14,
   "metadata": {},
   "outputs": [
    {
     "name": "stdout",
     "output_type": "stream",
     "text": [
      "a.txt have 750 obs\n",
      "b.txt have 1,864 obs\n",
      "c.txt have 1,355 obs\n"
     ]
    }
   ],
   "source": [
    "a = data_a['3class8'].value_counts()[1]\n",
    "b = data_b['3class8'].value_counts()[1]\n",
    "c = data_c['3class8'].value_counts()[1]\n",
    "\n",
    "print('a.txt have {:,} obs' .format(a))\n",
    "print('b.txt have {:,} obs' .format(b))\n",
    "print('c.txt have {:,} obs' .format(c))"
   ]
  },
  {
   "cell_type": "markdown",
   "metadata": {},
   "source": [
    "### 3. (Analysis) What are the mean, median, and standard deviation for each feature in each group?"
   ]
  },
  {
   "cell_type": "code",
   "execution_count": 15,
   "metadata": {},
   "outputs": [
    {
     "data": {
      "text/html": [
       "<div>\n",
       "<style scoped>\n",
       "    .dataframe tbody tr th:only-of-type {\n",
       "        vertical-align: middle;\n",
       "    }\n",
       "\n",
       "    .dataframe tbody tr th {\n",
       "        vertical-align: top;\n",
       "    }\n",
       "\n",
       "    .dataframe thead th {\n",
       "        text-align: right;\n",
       "    }\n",
       "</style>\n",
       "<table border=\"1\" class=\"dataframe\">\n",
       "  <thead>\n",
       "    <tr style=\"text-align: right;\">\n",
       "      <th></th>\n",
       "      <th>Length</th>\n",
       "      <th>Number of UpperCase</th>\n",
       "      <th>Number of Digits</th>\n",
       "      <th>Number of Special Characters</th>\n",
       "      <th>3class8</th>\n",
       "    </tr>\n",
       "  </thead>\n",
       "  <tbody>\n",
       "    <tr>\n",
       "      <th>count</th>\n",
       "      <td>1131.000000</td>\n",
       "      <td>1131.000000</td>\n",
       "      <td>1131.000000</td>\n",
       "      <td>1131.000000</td>\n",
       "      <td>1131.000000</td>\n",
       "    </tr>\n",
       "    <tr>\n",
       "      <th>mean</th>\n",
       "      <td>25.374005</td>\n",
       "      <td>2.878868</td>\n",
       "      <td>3.890363</td>\n",
       "      <td>0.785146</td>\n",
       "      <td>0.663130</td>\n",
       "    </tr>\n",
       "    <tr>\n",
       "      <th>std</th>\n",
       "      <td>291.686929</td>\n",
       "      <td>33.638558</td>\n",
       "      <td>3.503021</td>\n",
       "      <td>7.436861</td>\n",
       "      <td>0.472849</td>\n",
       "    </tr>\n",
       "    <tr>\n",
       "      <th>min</th>\n",
       "      <td>1.000000</td>\n",
       "      <td>0.000000</td>\n",
       "      <td>0.000000</td>\n",
       "      <td>0.000000</td>\n",
       "      <td>0.000000</td>\n",
       "    </tr>\n",
       "    <tr>\n",
       "      <th>25%</th>\n",
       "      <td>10.500000</td>\n",
       "      <td>0.000000</td>\n",
       "      <td>1.000000</td>\n",
       "      <td>0.000000</td>\n",
       "      <td>0.000000</td>\n",
       "    </tr>\n",
       "    <tr>\n",
       "      <th>50%</th>\n",
       "      <td>13.000000</td>\n",
       "      <td>1.000000</td>\n",
       "      <td>2.000000</td>\n",
       "      <td>0.000000</td>\n",
       "      <td>1.000000</td>\n",
       "    </tr>\n",
       "    <tr>\n",
       "      <th>75%</th>\n",
       "      <td>15.000000</td>\n",
       "      <td>2.000000</td>\n",
       "      <td>6.000000</td>\n",
       "      <td>1.000000</td>\n",
       "      <td>1.000000</td>\n",
       "    </tr>\n",
       "    <tr>\n",
       "      <th>max</th>\n",
       "      <td>7647.000000</td>\n",
       "      <td>955.000000</td>\n",
       "      <td>18.000000</td>\n",
       "      <td>185.000000</td>\n",
       "      <td>1.000000</td>\n",
       "    </tr>\n",
       "  </tbody>\n",
       "</table>\n",
       "</div>"
      ],
      "text/plain": [
       "            Length  Number of UpperCase  Number of Digits  \\\n",
       "count  1131.000000          1131.000000       1131.000000   \n",
       "mean     25.374005             2.878868          3.890363   \n",
       "std     291.686929            33.638558          3.503021   \n",
       "min       1.000000             0.000000          0.000000   \n",
       "25%      10.500000             0.000000          1.000000   \n",
       "50%      13.000000             1.000000          2.000000   \n",
       "75%      15.000000             2.000000          6.000000   \n",
       "max    7647.000000           955.000000         18.000000   \n",
       "\n",
       "       Number of Special Characters      3class8  \n",
       "count                   1131.000000  1131.000000  \n",
       "mean                       0.785146     0.663130  \n",
       "std                        7.436861     0.472849  \n",
       "min                        0.000000     0.000000  \n",
       "25%                        0.000000     0.000000  \n",
       "50%                        0.000000     1.000000  \n",
       "75%                        1.000000     1.000000  \n",
       "max                      185.000000     1.000000  "
      ]
     },
     "execution_count": 15,
     "metadata": {},
     "output_type": "execute_result"
    }
   ],
   "source": [
    "data_a.describe()"
   ]
  },
  {
   "cell_type": "code",
   "execution_count": 16,
   "metadata": {
    "scrolled": true
   },
   "outputs": [
    {
     "data": {
      "text/html": [
       "<div>\n",
       "<style scoped>\n",
       "    .dataframe tbody tr th:only-of-type {\n",
       "        vertical-align: middle;\n",
       "    }\n",
       "\n",
       "    .dataframe tbody tr th {\n",
       "        vertical-align: top;\n",
       "    }\n",
       "\n",
       "    .dataframe thead th {\n",
       "        text-align: right;\n",
       "    }\n",
       "</style>\n",
       "<table border=\"1\" class=\"dataframe\">\n",
       "  <thead>\n",
       "    <tr style=\"text-align: right;\">\n",
       "      <th></th>\n",
       "      <th>Length</th>\n",
       "      <th>Number of UpperCase</th>\n",
       "      <th>Number of Digits</th>\n",
       "      <th>Number of Special Characters</th>\n",
       "      <th>3class8</th>\n",
       "    </tr>\n",
       "  </thead>\n",
       "  <tbody>\n",
       "    <tr>\n",
       "      <th>count</th>\n",
       "      <td>2108.000000</td>\n",
       "      <td>2108.000000</td>\n",
       "      <td>2108.000000</td>\n",
       "      <td>2108.000000</td>\n",
       "      <td>2108.00000</td>\n",
       "    </tr>\n",
       "    <tr>\n",
       "      <th>mean</th>\n",
       "      <td>9.222486</td>\n",
       "      <td>0.932638</td>\n",
       "      <td>2.658918</td>\n",
       "      <td>0.139469</td>\n",
       "      <td>0.88425</td>\n",
       "    </tr>\n",
       "    <tr>\n",
       "      <th>std</th>\n",
       "      <td>1.639373</td>\n",
       "      <td>0.530259</td>\n",
       "      <td>1.656811</td>\n",
       "      <td>0.932205</td>\n",
       "      <td>0.32000</td>\n",
       "    </tr>\n",
       "    <tr>\n",
       "      <th>min</th>\n",
       "      <td>2.000000</td>\n",
       "      <td>0.000000</td>\n",
       "      <td>0.000000</td>\n",
       "      <td>0.000000</td>\n",
       "      <td>0.00000</td>\n",
       "    </tr>\n",
       "    <tr>\n",
       "      <th>25%</th>\n",
       "      <td>8.000000</td>\n",
       "      <td>1.000000</td>\n",
       "      <td>1.000000</td>\n",
       "      <td>0.000000</td>\n",
       "      <td>1.00000</td>\n",
       "    </tr>\n",
       "    <tr>\n",
       "      <th>50%</th>\n",
       "      <td>9.000000</td>\n",
       "      <td>1.000000</td>\n",
       "      <td>2.000000</td>\n",
       "      <td>0.000000</td>\n",
       "      <td>1.00000</td>\n",
       "    </tr>\n",
       "    <tr>\n",
       "      <th>75%</th>\n",
       "      <td>10.000000</td>\n",
       "      <td>1.000000</td>\n",
       "      <td>4.000000</td>\n",
       "      <td>0.000000</td>\n",
       "      <td>1.00000</td>\n",
       "    </tr>\n",
       "    <tr>\n",
       "      <th>max</th>\n",
       "      <td>26.000000</td>\n",
       "      <td>7.000000</td>\n",
       "      <td>14.000000</td>\n",
       "      <td>23.000000</td>\n",
       "      <td>1.00000</td>\n",
       "    </tr>\n",
       "  </tbody>\n",
       "</table>\n",
       "</div>"
      ],
      "text/plain": [
       "            Length  Number of UpperCase  Number of Digits  \\\n",
       "count  2108.000000          2108.000000       2108.000000   \n",
       "mean      9.222486             0.932638          2.658918   \n",
       "std       1.639373             0.530259          1.656811   \n",
       "min       2.000000             0.000000          0.000000   \n",
       "25%       8.000000             1.000000          1.000000   \n",
       "50%       9.000000             1.000000          2.000000   \n",
       "75%      10.000000             1.000000          4.000000   \n",
       "max      26.000000             7.000000         14.000000   \n",
       "\n",
       "       Number of Special Characters     3class8  \n",
       "count                   2108.000000  2108.00000  \n",
       "mean                       0.139469     0.88425  \n",
       "std                        0.932205     0.32000  \n",
       "min                        0.000000     0.00000  \n",
       "25%                        0.000000     1.00000  \n",
       "50%                        0.000000     1.00000  \n",
       "75%                        0.000000     1.00000  \n",
       "max                       23.000000     1.00000  "
      ]
     },
     "execution_count": 16,
     "metadata": {},
     "output_type": "execute_result"
    }
   ],
   "source": [
    "data_b.describe()"
   ]
  },
  {
   "cell_type": "code",
   "execution_count": 17,
   "metadata": {},
   "outputs": [
    {
     "data": {
      "text/html": [
       "<div>\n",
       "<style scoped>\n",
       "    .dataframe tbody tr th:only-of-type {\n",
       "        vertical-align: middle;\n",
       "    }\n",
       "\n",
       "    .dataframe tbody tr th {\n",
       "        vertical-align: top;\n",
       "    }\n",
       "\n",
       "    .dataframe thead th {\n",
       "        text-align: right;\n",
       "    }\n",
       "</style>\n",
       "<table border=\"1\" class=\"dataframe\">\n",
       "  <thead>\n",
       "    <tr style=\"text-align: right;\">\n",
       "      <th></th>\n",
       "      <th>Length</th>\n",
       "      <th>Number of UpperCase</th>\n",
       "      <th>Number of Digits</th>\n",
       "      <th>Number of Special Characters</th>\n",
       "      <th>3class8</th>\n",
       "    </tr>\n",
       "  </thead>\n",
       "  <tbody>\n",
       "    <tr>\n",
       "      <th>count</th>\n",
       "      <td>2276.000000</td>\n",
       "      <td>2276.000000</td>\n",
       "      <td>2276.000000</td>\n",
       "      <td>2276.000000</td>\n",
       "      <td>2276.000000</td>\n",
       "    </tr>\n",
       "    <tr>\n",
       "      <th>mean</th>\n",
       "      <td>9.878735</td>\n",
       "      <td>0.202548</td>\n",
       "      <td>2.518893</td>\n",
       "      <td>0.632689</td>\n",
       "      <td>0.595343</td>\n",
       "    </tr>\n",
       "    <tr>\n",
       "      <th>std</th>\n",
       "      <td>1.975735</td>\n",
       "      <td>0.524405</td>\n",
       "      <td>1.568955</td>\n",
       "      <td>0.674473</td>\n",
       "      <td>0.490933</td>\n",
       "    </tr>\n",
       "    <tr>\n",
       "      <th>min</th>\n",
       "      <td>4.000000</td>\n",
       "      <td>0.000000</td>\n",
       "      <td>0.000000</td>\n",
       "      <td>0.000000</td>\n",
       "      <td>0.000000</td>\n",
       "    </tr>\n",
       "    <tr>\n",
       "      <th>25%</th>\n",
       "      <td>8.000000</td>\n",
       "      <td>0.000000</td>\n",
       "      <td>1.000000</td>\n",
       "      <td>0.000000</td>\n",
       "      <td>0.000000</td>\n",
       "    </tr>\n",
       "    <tr>\n",
       "      <th>50%</th>\n",
       "      <td>9.000000</td>\n",
       "      <td>0.000000</td>\n",
       "      <td>2.000000</td>\n",
       "      <td>1.000000</td>\n",
       "      <td>1.000000</td>\n",
       "    </tr>\n",
       "    <tr>\n",
       "      <th>75%</th>\n",
       "      <td>11.000000</td>\n",
       "      <td>0.000000</td>\n",
       "      <td>4.000000</td>\n",
       "      <td>1.000000</td>\n",
       "      <td>1.000000</td>\n",
       "    </tr>\n",
       "    <tr>\n",
       "      <th>max</th>\n",
       "      <td>20.000000</td>\n",
       "      <td>4.000000</td>\n",
       "      <td>15.000000</td>\n",
       "      <td>5.000000</td>\n",
       "      <td>1.000000</td>\n",
       "    </tr>\n",
       "  </tbody>\n",
       "</table>\n",
       "</div>"
      ],
      "text/plain": [
       "            Length  Number of UpperCase  Number of Digits  \\\n",
       "count  2276.000000          2276.000000       2276.000000   \n",
       "mean      9.878735             0.202548          2.518893   \n",
       "std       1.975735             0.524405          1.568955   \n",
       "min       4.000000             0.000000          0.000000   \n",
       "25%       8.000000             0.000000          1.000000   \n",
       "50%       9.000000             0.000000          2.000000   \n",
       "75%      11.000000             0.000000          4.000000   \n",
       "max      20.000000             4.000000         15.000000   \n",
       "\n",
       "       Number of Special Characters      3class8  \n",
       "count                   2276.000000  2276.000000  \n",
       "mean                       0.632689     0.595343  \n",
       "std                        0.674473     0.490933  \n",
       "min                        0.000000     0.000000  \n",
       "25%                        0.000000     0.000000  \n",
       "50%                        1.000000     1.000000  \n",
       "75%                        1.000000     1.000000  \n",
       "max                        5.000000     1.000000  "
      ]
     },
     "execution_count": 17,
     "metadata": {},
     "output_type": "execute_result"
    }
   ],
   "source": [
    "data_c.describe()"
   ]
  },
  {
   "cell_type": "markdown",
   "metadata": {},
   "source": [
    "### 4. (Analysis) Plot the password length histogram for each file."
   ]
  },
  {
   "cell_type": "code",
   "execution_count": 18,
   "metadata": {},
   "outputs": [
    {
     "data": {
      "image/png": "[encoded data removed]",
      "text/plain": [
       "<Figure size 1296x576 with 3 Axes>"
      ]
     },
     "metadata": {},
     "output_type": "display_data"
    }
   ],
   "source": [
    "import seaborn as sns\n",
    "import matplotlib.pyplot as plt\n",
    "sns.set(style=\"white\", palette=\"muted\", color_codes=True)\n",
    "\n",
    "figure, ((ax1,ax2,ax3)) = plt.subplots(nrows=1, ncols=3)\n",
    "figure.set_size_inches(18,8)\n",
    "\n",
    "sns.despine(left=True)\n",
    "\n",
    "sns.distplot(data_a['Length'], kde=False, color=\"r\", ax=ax1, label='a.txt')\n",
    "sns.distplot(data_b['Length'], kde=False, color=\"b\", ax=ax2)\n",
    "sns.distplot(data_c['Length'], kde=False, color=\"g\", ax=ax3)\n",
    "\n",
    "ax1.set(title='a.txt')\n",
    "ax2.set(title='b.txt')\n",
    "ax3.set(title='c.txt')\n",
    "\n",
    "plt.show()"
   ]
  },
  {
   "cell_type": "markdown",
   "metadata": {},
   "source": [
    "### 5. (Binary classification) From a.txt.feature and b.txt.feature, divide the first 80% for training and 20% for testing and run the SVM classifier between a.txt and b.txt. Report the precision, recall, and F1 (you may use the labels 0 and 1 to indicate the classes ‘a’ and ‘b’, respectively, i.e., ‘a’: 0 and ‘b’: 1)."
   ]
  },
  {
   "cell_type": "code",
   "execution_count": 19,
   "metadata": {},
   "outputs": [],
   "source": [
    "data_a['Label'] = 1\n",
    "data_b['Label'] = 0"
   ]
  },
  {
   "cell_type": "code",
   "execution_count": 20,
   "metadata": {},
   "outputs": [],
   "source": [
    "train_a = data_a.loc[:0.80*len(data_a)]\n",
    "train_b = data_b.loc[:0.80*len(data_b)]\n",
    "test_a = data_a.loc[0.80*len(data_a):]\n",
    "test_b = data_b.loc[0.80*len(data_b):]"
   ]
  },
  {
   "cell_type": "code",
   "execution_count": 21,
   "metadata": {},
   "outputs": [],
   "source": [
    "train = pd.concat([train_a, train_b], axis=0)\n",
    "test = pd.concat([test_a, test_b], axis=0)"
   ]
  },
  {
   "cell_type": "code",
   "execution_count": 22,
   "metadata": {},
   "outputs": [],
   "source": [
    "train_X = train[['Length', 'Number of UpperCase', 'Number of Digits', 'Number of Special Characters', '3class8']]\n",
    "train_Y = train[['Label']]"
   ]
  },
  {
   "cell_type": "code",
   "execution_count": 23,
   "metadata": {},
   "outputs": [],
   "source": [
    "test_X = test[['Length', 'Number of UpperCase', 'Number of Digits', 'Number of Special Characters', '3class8']]\n",
    "test_Y = test[['Label']]"
   ]
  },
  {
   "cell_type": "code",
   "execution_count": 24,
   "metadata": {},
   "outputs": [
    {
     "name": "stderr",
     "output_type": "stream",
     "text": [
      "c:\\users\\user\\anaconda3\\envs\\tensor_2_1\\lib\\site-packages\\sklearn\\utils\\validation.py:760: DataConversionWarning: A column-vector y was passed when a 1d array was expected. Please change the shape of y to (n_samples, ), for example using ravel().\n",
      "  y = column_or_1d(y, warn=True)\n"
     ]
    },
    {
     "data": {
      "text/plain": [
       "SVC(C=100, break_ties=False, cache_size=200, class_weight=None, coef0=0.0,\n",
       "    decision_function_shape='ovr', degree=3, gamma='scale', kernel='rbf',\n",
       "    max_iter=-1, probability=False, random_state=None, shrinking=True,\n",
       "    tol=0.001, verbose=False)"
      ]
     },
     "execution_count": 24,
     "metadata": {},
     "output_type": "execute_result"
    }
   ],
   "source": [
    "from sklearn import svm\n",
    "svm = svm.SVC(C=100)\n",
    "svm.fit(train_X, train_Y)"
   ]
  },
  {
   "cell_type": "code",
   "execution_count": 25,
   "metadata": {},
   "outputs": [
    {
     "data": {
      "text/plain": [
       "array([[1604,   83],\n",
       "       [ 326,  579]], dtype=int64)"
      ]
     },
     "execution_count": 25,
     "metadata": {},
     "output_type": "execute_result"
    }
   ],
   "source": [
    "y_true = train_Y\n",
    "y_pred = svm.predict(train_X)\n",
    "from sklearn.metrics import confusion_matrix\n",
    "confusion_matrix(y_true, y_pred)"
   ]
  },
  {
   "cell_type": "code",
   "execution_count": 26,
   "metadata": {},
   "outputs": [
    {
     "name": "stdout",
     "output_type": "stream",
     "text": [
      "Accuracy = 0.8422\n",
      "Precision = 0.8746\n",
      "Recall = 0.6398\n",
      "F1-score = 0.7390\n"
     ]
    }
   ],
   "source": [
    "import sklearn.metrics as metrics\n",
    "print('Accuracy = {:.4f}' .format(metrics.accuracy_score(y_true, y_pred)))\n",
    "print('Precision = {:.4f}' .format(metrics.precision_score(y_true, y_pred)))\n",
    "print('Recall = {:.4f}' .format(metrics.recall_score(y_true, y_pred)))\n",
    "print('F1-score = {:.4f}' .format(metrics.f1_score(y_true, y_pred)))"
   ]
  },
  {
   "cell_type": "code",
   "execution_count": 27,
   "metadata": {},
   "outputs": [
    {
     "data": {
      "text/plain": [
       "array([[401,  20],\n",
       "       [ 80, 146]], dtype=int64)"
      ]
     },
     "execution_count": 27,
     "metadata": {},
     "output_type": "execute_result"
    }
   ],
   "source": [
    "y_true = test_Y\n",
    "y_pred = svm.predict(test_X)\n",
    "from sklearn.metrics import confusion_matrix\n",
    "confusion_matrix(y_true, y_pred)"
   ]
  },
  {
   "cell_type": "code",
   "execution_count": 28,
   "metadata": {},
   "outputs": [
    {
     "name": "stdout",
     "output_type": "stream",
     "text": [
      "Accuracy = 0.8454\n",
      "Precision = 0.8795\n",
      "Recall = 0.6460\n",
      "F1-score = 0.7449\n"
     ]
    }
   ],
   "source": [
    "import sklearn.metrics as metrics\n",
    "print('Accuracy = {:.4f}' .format(metrics.accuracy_score(y_true, y_pred)))\n",
    "print('Precision = {:.4f}' .format(metrics.precision_score(y_true, y_pred)))\n",
    "print('Recall = {:.4f}' .format(metrics.recall_score(y_true, y_pred)))\n",
    "print('F1-score = {:.4f}' .format(metrics.f1_score(y_true, y_pred)))"
   ]
  },
  {
   "cell_type": "markdown",
   "metadata": {},
   "source": [
    "### 6. (Extra Credit) Among the 5 features, what are the top three most important features that influence the classification results? Explain and justify your reasoning."
   ]
  },
  {
   "cell_type": "code",
   "execution_count": 29,
   "metadata": {},
   "outputs": [],
   "source": [
    "data = pd.concat([data_a, data_b])"
   ]
  },
  {
   "cell_type": "code",
   "execution_count": 30,
   "metadata": {},
   "outputs": [
    {
     "data": {
      "text/html": [
       "<div>\n",
       "<style scoped>\n",
       "    .dataframe tbody tr th:only-of-type {\n",
       "        vertical-align: middle;\n",
       "    }\n",
       "\n",
       "    .dataframe tbody tr th {\n",
       "        vertical-align: top;\n",
       "    }\n",
       "\n",
       "    .dataframe thead tr th {\n",
       "        text-align: left;\n",
       "    }\n",
       "\n",
       "    .dataframe thead tr:last-of-type th {\n",
       "        text-align: right;\n",
       "    }\n",
       "</style>\n",
       "<table border=\"1\" class=\"dataframe\">\n",
       "  <thead>\n",
       "    <tr>\n",
       "      <th></th>\n",
       "      <th colspan=\"5\" halign=\"left\">mean</th>\n",
       "    </tr>\n",
       "    <tr>\n",
       "      <th></th>\n",
       "      <th>3class8</th>\n",
       "      <th>Length</th>\n",
       "      <th>Number of Digits</th>\n",
       "      <th>Number of Special Characters</th>\n",
       "      <th>Number of UpperCase</th>\n",
       "    </tr>\n",
       "    <tr>\n",
       "      <th>Label</th>\n",
       "      <th></th>\n",
       "      <th></th>\n",
       "      <th></th>\n",
       "      <th></th>\n",
       "      <th></th>\n",
       "    </tr>\n",
       "  </thead>\n",
       "  <tbody>\n",
       "    <tr>\n",
       "      <th>0</th>\n",
       "      <td>0.88425</td>\n",
       "      <td>9.222486</td>\n",
       "      <td>2.658918</td>\n",
       "      <td>0.139469</td>\n",
       "      <td>0.932638</td>\n",
       "    </tr>\n",
       "    <tr>\n",
       "      <th>1</th>\n",
       "      <td>0.66313</td>\n",
       "      <td>25.374005</td>\n",
       "      <td>3.890363</td>\n",
       "      <td>0.785146</td>\n",
       "      <td>2.878868</td>\n",
       "    </tr>\n",
       "  </tbody>\n",
       "</table>\n",
       "</div>"
      ],
      "text/plain": [
       "          mean                                                           \\\n",
       "       3class8     Length Number of Digits Number of Special Characters   \n",
       "Label                                                                     \n",
       "0      0.88425   9.222486         2.658918                     0.139469   \n",
       "1      0.66313  25.374005         3.890363                     0.785146   \n",
       "\n",
       "                           \n",
       "      Number of UpperCase  \n",
       "Label                      \n",
       "0                0.932638  \n",
       "1                2.878868  "
      ]
     },
     "execution_count": 30,
     "metadata": {},
     "output_type": "execute_result"
    }
   ],
   "source": [
    "pd.pivot_table(data, index = ['Label'], values = ['Length', 'Number of UpperCase', 'Number of Digits',\\\n",
    "                                                  'Number of Special Characters', '3class8'], aggfunc = ['mean'], fill_value = 0)"
   ]
  },
  {
   "cell_type": "code",
   "execution_count": 31,
   "metadata": {},
   "outputs": [
    {
     "data": {
      "text/html": [
       "<div>\n",
       "<style scoped>\n",
       "    .dataframe tbody tr th:only-of-type {\n",
       "        vertical-align: middle;\n",
       "    }\n",
       "\n",
       "    .dataframe tbody tr th {\n",
       "        vertical-align: top;\n",
       "    }\n",
       "\n",
       "    .dataframe thead tr th {\n",
       "        text-align: left;\n",
       "    }\n",
       "\n",
       "    .dataframe thead tr:last-of-type th {\n",
       "        text-align: right;\n",
       "    }\n",
       "</style>\n",
       "<table border=\"1\" class=\"dataframe\">\n",
       "  <thead>\n",
       "    <tr>\n",
       "      <th></th>\n",
       "      <th colspan=\"5\" halign=\"left\">median</th>\n",
       "    </tr>\n",
       "    <tr>\n",
       "      <th></th>\n",
       "      <th>3class8</th>\n",
       "      <th>Length</th>\n",
       "      <th>Number of Digits</th>\n",
       "      <th>Number of Special Characters</th>\n",
       "      <th>Number of UpperCase</th>\n",
       "    </tr>\n",
       "    <tr>\n",
       "      <th>Label</th>\n",
       "      <th></th>\n",
       "      <th></th>\n",
       "      <th></th>\n",
       "      <th></th>\n",
       "      <th></th>\n",
       "    </tr>\n",
       "  </thead>\n",
       "  <tbody>\n",
       "    <tr>\n",
       "      <th>0</th>\n",
       "      <td>1</td>\n",
       "      <td>9</td>\n",
       "      <td>2</td>\n",
       "      <td>0</td>\n",
       "      <td>1</td>\n",
       "    </tr>\n",
       "    <tr>\n",
       "      <th>1</th>\n",
       "      <td>1</td>\n",
       "      <td>13</td>\n",
       "      <td>2</td>\n",
       "      <td>0</td>\n",
       "      <td>1</td>\n",
       "    </tr>\n",
       "  </tbody>\n",
       "</table>\n",
       "</div>"
      ],
      "text/plain": [
       "       median                                                       \\\n",
       "      3class8 Length Number of Digits Number of Special Characters   \n",
       "Label                                                                \n",
       "0           1      9                2                            0   \n",
       "1           1     13                2                            0   \n",
       "\n",
       "                           \n",
       "      Number of UpperCase  \n",
       "Label                      \n",
       "0                       1  \n",
       "1                       1  "
      ]
     },
     "execution_count": 31,
     "metadata": {},
     "output_type": "execute_result"
    }
   ],
   "source": [
    "pd.pivot_table(data, index = ['Label'], values = ['Length', 'Number of UpperCase', 'Number of Digits',\\\n",
    "                                                  'Number of Special Characters', '3class8'], aggfunc = ['median'], fill_value = 0)"
   ]
  },
  {
   "cell_type": "code",
   "execution_count": 32,
   "metadata": {},
   "outputs": [
    {
     "data": {
      "text/html": [
       "<div>\n",
       "<style scoped>\n",
       "    .dataframe tbody tr th:only-of-type {\n",
       "        vertical-align: middle;\n",
       "    }\n",
       "\n",
       "    .dataframe tbody tr th {\n",
       "        vertical-align: top;\n",
       "    }\n",
       "\n",
       "    .dataframe thead tr th {\n",
       "        text-align: left;\n",
       "    }\n",
       "\n",
       "    .dataframe thead tr:last-of-type th {\n",
       "        text-align: right;\n",
       "    }\n",
       "</style>\n",
       "<table border=\"1\" class=\"dataframe\">\n",
       "  <thead>\n",
       "    <tr>\n",
       "      <th></th>\n",
       "      <th colspan=\"5\" halign=\"left\">max</th>\n",
       "    </tr>\n",
       "    <tr>\n",
       "      <th></th>\n",
       "      <th>3class8</th>\n",
       "      <th>Length</th>\n",
       "      <th>Number of Digits</th>\n",
       "      <th>Number of Special Characters</th>\n",
       "      <th>Number of UpperCase</th>\n",
       "    </tr>\n",
       "    <tr>\n",
       "      <th>Label</th>\n",
       "      <th></th>\n",
       "      <th></th>\n",
       "      <th></th>\n",
       "      <th></th>\n",
       "      <th></th>\n",
       "    </tr>\n",
       "  </thead>\n",
       "  <tbody>\n",
       "    <tr>\n",
       "      <th>0</th>\n",
       "      <td>1</td>\n",
       "      <td>26</td>\n",
       "      <td>14</td>\n",
       "      <td>23</td>\n",
       "      <td>7</td>\n",
       "    </tr>\n",
       "    <tr>\n",
       "      <th>1</th>\n",
       "      <td>1</td>\n",
       "      <td>7647</td>\n",
       "      <td>18</td>\n",
       "      <td>185</td>\n",
       "      <td>955</td>\n",
       "    </tr>\n",
       "  </tbody>\n",
       "</table>\n",
       "</div>"
      ],
      "text/plain": [
       "          max                                                       \\\n",
       "      3class8 Length Number of Digits Number of Special Characters   \n",
       "Label                                                                \n",
       "0           1     26               14                           23   \n",
       "1           1   7647               18                          185   \n",
       "\n",
       "                           \n",
       "      Number of UpperCase  \n",
       "Label                      \n",
       "0                       7  \n",
       "1                     955  "
      ]
     },
     "execution_count": 32,
     "metadata": {},
     "output_type": "execute_result"
    }
   ],
   "source": [
    "pd.pivot_table(data, index = ['Label'], values = ['Length', 'Number of UpperCase', 'Number of Digits',\\\n",
    "                                                  'Number of Special Characters', '3class8'], aggfunc = ['max'], fill_value = 0)"
   ]
  },
  {
   "cell_type": "code",
   "execution_count": 33,
   "metadata": {},
   "outputs": [
    {
     "data": {
      "text/html": [
       "<div>\n",
       "<style scoped>\n",
       "    .dataframe tbody tr th:only-of-type {\n",
       "        vertical-align: middle;\n",
       "    }\n",
       "\n",
       "    .dataframe tbody tr th {\n",
       "        vertical-align: top;\n",
       "    }\n",
       "\n",
       "    .dataframe thead tr th {\n",
       "        text-align: left;\n",
       "    }\n",
       "\n",
       "    .dataframe thead tr:last-of-type th {\n",
       "        text-align: right;\n",
       "    }\n",
       "</style>\n",
       "<table border=\"1\" class=\"dataframe\">\n",
       "  <thead>\n",
       "    <tr>\n",
       "      <th></th>\n",
       "      <th colspan=\"5\" halign=\"left\">min</th>\n",
       "    </tr>\n",
       "    <tr>\n",
       "      <th></th>\n",
       "      <th>3class8</th>\n",
       "      <th>Length</th>\n",
       "      <th>Number of Digits</th>\n",
       "      <th>Number of Special Characters</th>\n",
       "      <th>Number of UpperCase</th>\n",
       "    </tr>\n",
       "    <tr>\n",
       "      <th>Label</th>\n",
       "      <th></th>\n",
       "      <th></th>\n",
       "      <th></th>\n",
       "      <th></th>\n",
       "      <th></th>\n",
       "    </tr>\n",
       "  </thead>\n",
       "  <tbody>\n",
       "    <tr>\n",
       "      <th>0</th>\n",
       "      <td>0</td>\n",
       "      <td>2</td>\n",
       "      <td>0</td>\n",
       "      <td>0</td>\n",
       "      <td>0</td>\n",
       "    </tr>\n",
       "    <tr>\n",
       "      <th>1</th>\n",
       "      <td>0</td>\n",
       "      <td>1</td>\n",
       "      <td>0</td>\n",
       "      <td>0</td>\n",
       "      <td>0</td>\n",
       "    </tr>\n",
       "  </tbody>\n",
       "</table>\n",
       "</div>"
      ],
      "text/plain": [
       "          min                                                       \\\n",
       "      3class8 Length Number of Digits Number of Special Characters   \n",
       "Label                                                                \n",
       "0           0      2                0                            0   \n",
       "1           0      1                0                            0   \n",
       "\n",
       "                           \n",
       "      Number of UpperCase  \n",
       "Label                      \n",
       "0                       0  \n",
       "1                       0  "
      ]
     },
     "execution_count": 33,
     "metadata": {},
     "output_type": "execute_result"
    }
   ],
   "source": [
    "pd.pivot_table(data, index = ['Label'], values = ['Length', 'Number of UpperCase', 'Number of Digits',\\\n",
    "                                                  'Number of Special Characters', '3class8'], aggfunc = ['min'], fill_value = 0)"
   ]
  },
  {
   "cell_type": "markdown",
   "metadata": {},
   "source": [
    "a와 b를 가장 잘 분류하는 feature 3개는 ***1.Length, 2.Number of Special Characters, 3. Number of UpperCase*** 라고 생각한다. 이 3개의 Feature가 레이블에 따른 평균값의 차이가 가장 크게 나기 때문이다. 따라서 레이블을 가장 잘 분류할 것이라고 생각한다."
   ]
  },
  {
   "cell_type": "markdown",
   "metadata": {},
   "source": [
    "### 7. Rerun SVM with the best three features. Report the precision, recall, and F1."
   ]
  },
  {
   "cell_type": "code",
   "execution_count": 34,
   "metadata": {},
   "outputs": [
    {
     "name": "stdout",
     "output_type": "stream",
     "text": [
      "Accuracy = 0.8176\n",
      "Precision = 0.7967\n",
      "Recall = 0.6416\n",
      "F1-score = 0.7108\n"
     ]
    },
    {
     "name": "stderr",
     "output_type": "stream",
     "text": [
      "c:\\users\\user\\anaconda3\\envs\\tensor_2_1\\lib\\site-packages\\sklearn\\utils\\validation.py:760: DataConversionWarning: A column-vector y was passed when a 1d array was expected. Please change the shape of y to (n_samples, ), for example using ravel().\n",
      "  y = column_or_1d(y, warn=True)\n"
     ]
    }
   ],
   "source": [
    "train_X = train[['Length', 'Number of UpperCase', 'Number of Special Characters']]\n",
    "train_Y = train[['Label']]\n",
    "\n",
    "test_X = test[['Length', 'Number of UpperCase', 'Number of Special Characters']]\n",
    "test_Y = test[['Label']]\n",
    "\n",
    "from sklearn import svm\n",
    "svm = svm.SVC(C=100)\n",
    "svm.fit(train_X, train_Y)\n",
    "\n",
    "y_true = test_Y\n",
    "y_pred = svm.predict(test_X)\n",
    "from sklearn.metrics import confusion_matrix\n",
    "confusion_matrix(y_true, y_pred)\n",
    "\n",
    "import sklearn.metrics as metrics\n",
    "print('Accuracy = {:.4f}' .format(metrics.accuracy_score(y_true, y_pred)))\n",
    "print('Precision = {:.4f}' .format(metrics.precision_score(y_true, y_pred)))\n",
    "print('Recall = {:.4f}' .format(metrics.recall_score(y_true, y_pred)))\n",
    "print('F1-score = {:.4f}' .format(metrics.f1_score(y_true, y_pred)))"
   ]
  },
  {
   "cell_type": "markdown",
   "metadata": {},
   "source": [
    "### 8. (Three class classification) From a.txt.feature, b.txt.feature, and c.txt.feature, divide the first 80% for training and 20% for testing and run the SVM classifier between a.txt, b.txt, and c.txt. Report the precision, recall, and F1 (you may use the labels 0, 1, and 2 to indicate the classes ‘a’, ‘b’, and ‘c’, respectively, i.e., ‘a’: 0; ‘b’: 1; ‘c’: 2)."
   ]
  },
  {
   "cell_type": "code",
   "execution_count": 35,
   "metadata": {},
   "outputs": [],
   "source": [
    "data_a['Label'] = 0\n",
    "data_b['Label'] = 1\n",
    "data_c['Label'] = 2"
   ]
  },
  {
   "cell_type": "code",
   "execution_count": 36,
   "metadata": {},
   "outputs": [],
   "source": [
    "train_a = data_a.loc[:0.80*len(data_a)]\n",
    "train_b = data_b.loc[:0.80*len(data_b)]\n",
    "train_c = data_c.loc[:0.80*len(data_c)]\n",
    "test_a = data_a.loc[0.80*len(data_a):]\n",
    "test_b = data_b.loc[0.80*len(data_b):]\n",
    "test_c = data_c.loc[0.80*len(data_c):]"
   ]
  },
  {
   "cell_type": "code",
   "execution_count": 37,
   "metadata": {},
   "outputs": [],
   "source": [
    "train = pd.concat([train_a, train_b, train_c], axis=0)\n",
    "test = pd.concat([test_a, test_b, train_c], axis=0)"
   ]
  },
  {
   "cell_type": "code",
   "execution_count": 38,
   "metadata": {},
   "outputs": [],
   "source": [
    "train_X = train[['Length', 'Number of UpperCase', 'Number of Digits', 'Number of Special Characters', '3class8']]\n",
    "train_Y = train[['Label']]"
   ]
  },
  {
   "cell_type": "code",
   "execution_count": 39,
   "metadata": {},
   "outputs": [],
   "source": [
    "test_X = test[['Length', 'Number of UpperCase', 'Number of Digits', 'Number of Special Characters', '3class8']]\n",
    "test_Y = test[['Label']]"
   ]
  },
  {
   "cell_type": "code",
   "execution_count": 40,
   "metadata": {},
   "outputs": [
    {
     "name": "stderr",
     "output_type": "stream",
     "text": [
      "c:\\users\\user\\anaconda3\\envs\\tensor_2_1\\lib\\site-packages\\sklearn\\utils\\validation.py:760: DataConversionWarning: A column-vector y was passed when a 1d array was expected. Please change the shape of y to (n_samples, ), for example using ravel().\n",
      "  y = column_or_1d(y, warn=True)\n"
     ]
    },
    {
     "data": {
      "text/plain": [
       "SVC(C=100, break_ties=False, cache_size=200, class_weight=None, coef0=0.0,\n",
       "    decision_function_shape='ovr', degree=3, gamma='scale', kernel='rbf',\n",
       "    max_iter=-1, probability=False, random_state=None, shrinking=True,\n",
       "    tol=0.001, verbose=False)"
      ]
     },
     "execution_count": 40,
     "metadata": {},
     "output_type": "execute_result"
    }
   ],
   "source": [
    "from sklearn import svm\n",
    "svm = svm.SVC(C=100)\n",
    "svm.fit(train_X, train_Y)"
   ]
  },
  {
   "cell_type": "code",
   "execution_count": 41,
   "metadata": {
    "scrolled": true
   },
   "outputs": [
    {
     "data": {
      "text/plain": [
       "array([[ 476,  206,  223],\n",
       "       [  71, 1372,  244],\n",
       "       [  65,  220, 1536]], dtype=int64)"
      ]
     },
     "execution_count": 41,
     "metadata": {},
     "output_type": "execute_result"
    }
   ],
   "source": [
    "y_true = train_Y\n",
    "y_pred = svm.predict(train_X)\n",
    "from sklearn.metrics import confusion_matrix\n",
    "confusion_matrix(y_true, y_pred)"
   ]
  },
  {
   "cell_type": "code",
   "execution_count": 42,
   "metadata": {},
   "outputs": [
    {
     "name": "stdout",
     "output_type": "stream",
     "text": [
      "Accuracy = 0.7668\n",
      "Precision = 0.7692\n",
      "Recall = 0.7276\n",
      "F1-score = 0.7394\n"
     ]
    }
   ],
   "source": [
    "import sklearn.metrics as metrics\n",
    "print('Accuracy = {:.4f}' .format(metrics.accuracy_score(y_true, y_pred)))\n",
    "print('Precision = {:.4f}' .format(metrics.precision_score(y_true, y_pred, average='macro')))\n",
    "print('Recall = {:.4f}' .format(metrics.recall_score(y_true, y_pred, average='macro')))\n",
    "print('F1-score = {:.4f}' .format(metrics.f1_score(y_true, y_pred, average='macro')))"
   ]
  },
  {
   "cell_type": "markdown",
   "metadata": {},
   "source": [
    "### 9. Rerun SVM with your best three features. Report the precision, recall, and F1."
   ]
  },
  {
   "cell_type": "code",
   "execution_count": 43,
   "metadata": {},
   "outputs": [
    {
     "name": "stderr",
     "output_type": "stream",
     "text": [
      "c:\\users\\user\\anaconda3\\envs\\tensor_2_1\\lib\\site-packages\\sklearn\\utils\\validation.py:760: DataConversionWarning: A column-vector y was passed when a 1d array was expected. Please change the shape of y to (n_samples, ), for example using ravel().\n",
      "  y = column_or_1d(y, warn=True)\n"
     ]
    },
    {
     "name": "stdout",
     "output_type": "stream",
     "text": [
      "Accuracy = 0.7601\n",
      "Precision = 0.6362\n",
      "Recall = 0.7182\n",
      "F1-score = 0.6566\n"
     ]
    }
   ],
   "source": [
    "train_X = train[['Length', 'Number of UpperCase', 'Number of Special Characters']]\n",
    "train_Y = train[['Label']]\n",
    "\n",
    "test_X = test[['Length', 'Number of UpperCase', 'Number of Special Characters']]\n",
    "test_Y = test[['Label']]\n",
    "\n",
    "from sklearn import svm\n",
    "svm = svm.SVC(C=100)\n",
    "svm.fit(train_X, train_Y)\n",
    "\n",
    "y_true = test_Y\n",
    "y_pred = svm.predict(test_X)\n",
    "from sklearn.metrics import confusion_matrix\n",
    "confusion_matrix(y_true, y_pred)\n",
    "\n",
    "import sklearn.metrics as metrics\n",
    "print('Accuracy = {:.4f}' .format(metrics.accuracy_score(y_true, y_pred)))\n",
    "print('Precision = {:.4f}' .format(metrics.precision_score(y_true, y_pred, average='macro')))\n",
    "print('Recall = {:.4f}' .format(metrics.recall_score(y_true, y_pred, average='macro')))\n",
    "print('F1-score = {:.4f}' .format(metrics.f1_score(y_true, y_pred, average='macro')))"
   ]
  },
  {
   "cell_type": "markdown",
   "metadata": {},
   "source": [
    "### 10. (Analysis) If the three datasets are categorized according to password strength, which file belongs to the strong, medium, and weak password group and why?\n",
    "(e.g: a.txt: weak, b.txt. medium, and c.txt: strong)"
   ]
  },
  {
   "cell_type": "code",
   "execution_count": 44,
   "metadata": {
    "scrolled": false
   },
   "outputs": [
    {
     "data": {
      "text/plain": [
       "1    750\n",
       "0    381\n",
       "Name: 3class8, dtype: int64"
      ]
     },
     "execution_count": 44,
     "metadata": {},
     "output_type": "execute_result"
    }
   ],
   "source": [
    "data_a['3class8'].value_counts()"
   ]
  },
  {
   "cell_type": "code",
   "execution_count": 45,
   "metadata": {},
   "outputs": [
    {
     "name": "stdout",
     "output_type": "stream",
     "text": [
      "Group a have 66.31% 3class8\n"
     ]
    }
   ],
   "source": [
    "pop_a = data_a['3class8'].value_counts()[1] / (data_a['3class8'].value_counts()[0] + data_a['3class8'].value_counts()[1])\n",
    "print('Group A have {:.2f}% 3class8' .format(100*pop_a))"
   ]
  },
  {
   "cell_type": "code",
   "execution_count": 46,
   "metadata": {},
   "outputs": [
    {
     "data": {
      "text/plain": [
       "1    1864\n",
       "0     244\n",
       "Name: 3class8, dtype: int64"
      ]
     },
     "execution_count": 46,
     "metadata": {},
     "output_type": "execute_result"
    }
   ],
   "source": [
    "data_b['3class8'].value_counts()"
   ]
  },
  {
   "cell_type": "code",
   "execution_count": 47,
   "metadata": {},
   "outputs": [
    {
     "name": "stdout",
     "output_type": "stream",
     "text": [
      "Group b have 88.43% 3class8\n"
     ]
    }
   ],
   "source": [
    "pop_b = data_b['3class8'].value_counts()[1] / (data_b['3class8'].value_counts()[0] + data_b['3class8'].value_counts()[1])\n",
    "print('Group B have {:.2f}% 3class8' .format(100*pop_b))"
   ]
  },
  {
   "cell_type": "code",
   "execution_count": 48,
   "metadata": {},
   "outputs": [
    {
     "data": {
      "text/plain": [
       "1    1355\n",
       "0     921\n",
       "Name: 3class8, dtype: int64"
      ]
     },
     "execution_count": 48,
     "metadata": {},
     "output_type": "execute_result"
    }
   ],
   "source": [
    "data_c['3class8'].value_counts()"
   ]
  },
  {
   "cell_type": "code",
   "execution_count": 49,
   "metadata": {},
   "outputs": [
    {
     "name": "stdout",
     "output_type": "stream",
     "text": [
      "Group c have 59.53% 3class8\n"
     ]
    }
   ],
   "source": [
    "pop_c = data_c['3class8'].value_counts()[1] / (data_c['3class8'].value_counts()[0] + data_c['3class8'].value_counts()[1])\n",
    "print('Group C have {:.2f}% 3class8' .format(100*pop_c))"
   ]
  },
  {
   "cell_type": "markdown",
   "metadata": {},
   "source": [
    "가장 강력한 비밀번호 그룹은 B, 중간은 A, 가장 약한 그룹은 C라고 생각한다. 그 이유는 3clss8이면 강력한 비밀번호라고 했을 때, B는 88%가 강력한 비밀번호, C는 66%가 강력한 비밀번호, B는 66%가 강력한 비밀번호를 보유하고 있다. 따라서 강력한 순서는 ***B>A>C*** 순이다."
   ]
  },
  {
   "cell_type": "markdown",
   "metadata": {},
   "source": [
    "### 11. (Analysis) What do you think is the most important factors for creating strong multiple passwords? Describe your own strategy and reasoning."
   ]
  },
  {
   "cell_type": "markdown",
   "metadata": {},
   "source": [
    "3class8 Feature가 가장 중요한 변수라고 생각한다. 즉, 여러 class를 조합해서 만든 비밀번호가 가장 강력하다고 생각한다."
   ]
  },
  {
   "cell_type": "markdown",
   "metadata": {},
   "source": [
    "### 12. (Post-Question) Is this homework help you to improve the knowledge in password design than before? Provide your answer in 1-10 scale (1: not very helpful, 5: average, 9: very helpful). Also, explain in what aspects…"
   ]
  },
  {
   "cell_type": "markdown",
   "metadata": {},
   "source": [
    " 7점. 어느순간부터 인터넷이나 핸드폰에서 회원가입을 할 때 비밀번호를 구성할 때 특수문자를 넣기 시작한 것같다. 원래는 문자와 숫자 2개의 클래스의 조합으로 만들었지만, 특수문자를 반드시 추가해서 3개의 클래스를 사용해서 비밀번호를 만들기 시작했다. 실제로 분석을 통해 문자의 길이, 숫자의 길이, 대문자의 갯수등도 중요하지만, 가장 중요한 것은 클래스의 개수라는 것을 발견했다. 여러 \n",
    "\n",
    " 그러나, 보통 비밀번호를 지정할 때, 사람마다 자주 사용하는 고유의 숫자와 문자 등이 존재한다. 예를 들어 자신의 이름, 주민번호, 전화번호, 별명 등 자주 사용하는 패턴이 존재한다. 향후 분석에는 이런 부분도 고려한 모델을 만들면 더 좋을 것 같다."
   ]
  },
  {
   "cell_type": "markdown",
   "metadata": {},
   "source": [
    "### 13. (Post-Question) Is this homework help you to create stronger password than before? Provide your answer in 1-10 scale (1:not very helpful, 5: average, 9: very helpful) . Also, explain in what aspects…"
   ]
  },
  {
   "cell_type": "markdown",
   "metadata": {},
   "source": [
    "5점. 이미 많은 사이트 등에서 영문+숫자+특수문자의 조합을 사용하여 비밀번호를 생성하게 지정해 놓았다. 이번 과제에서 왜 3개의 클래스를 사용해야 강도 높은 비밀번호인지는 깨닫게 되었지만, 어떻게 3개의 클래스를 조합해야 강력한 비밀번호인지는 다루지 않은 것 같다."
   ]
  },
  {
   "cell_type": "markdown",
   "metadata": {},
   "source": [
    "### 14. (Post-Question) Is this homework help you to improve the knowledge in SVM and classification? Provide your answer in 1-10 scale (1: not very helpful, 5: average, 9: very helpful). Also, explain in what aspects…"
   ]
  },
  {
   "cell_type": "markdown",
   "metadata": {},
   "source": [
    "8점. Sklearn을 활용해서 SVM을 모델을 사용하는 법을 알게 되었다. 그러나, 하이퍼 파라미터를 찾는 방법과, 각 하이퍼 파라미터의 의미들도 함께 배웠으면 좋겠다는 생각이 들었다."
   ]
  },
  {
   "cell_type": "markdown",
   "metadata": {},
   "source": [
    "### 15. (Post-Question) Explain how this homework has helped you to create a stronger password in any way in detail?"
   ]
  },
  {
   "cell_type": "markdown",
   "metadata": {},
   "source": [
    "최소 8글자 이상의 대문자+소문자+숫자+특수문자 조합으로 문자 조합과 숫자 조합은 자신과 관련되지 않은 숫자를 사용하는 것이 강력한 비밀번호를 생성할 수 있다고 생각한다."
   ]
  }
 ],
 "metadata": {
  "kernelspec": {
   "display_name": "Python 3",
   "language": "python",
   "name": "python3"
  },
  "language_info": {
   "codemirror_mode": {
    "name": "ipython",
    "version": 3
   },
   "file_extension": ".py",
   "mimetype": "text/x-python",
   "name": "python",
   "nbconvert_exporter": "python",
   "pygments_lexer": "ipython3",
   "version": "3.6.9"
  },
  "toc": {
   "base_numbering": 1,
   "nav_menu": {},
   "number_sections": true,
   "sideBar": true,
   "skip_h1_title": false,
   "title_cell": "Table of Contents",
   "title_sidebar": "Contents",
   "toc_cell": false,
   "toc_position": {},
   "toc_section_display": true,
   "toc_window_display": false
  },
  "varInspector": {
   "cols": {
    "lenName": 16,
    "lenType": 16,
    "lenVar": 40
   },
   "kernels_config": {
    "python": {
     "delete_cmd_postfix": "",
     "delete_cmd_prefix": "del ",
     "library": "var_list.py",
     "varRefreshCmd": "print(var_dic_list())"
    },
    "r": {
     "delete_cmd_postfix": ") ",
     "delete_cmd_prefix": "rm(",
     "library": "var_list.r",
     "varRefreshCmd": "cat(var_dic_list()) "
    }
   },
   "types_to_exclude": [
    "module",
    "function",
    "builtin_function_or_method",
    "instance",
    "_Feature"
   ],
   "window_display": false
  }
 },
 "nbformat": 4,
 "nbformat_minor": 4
}
