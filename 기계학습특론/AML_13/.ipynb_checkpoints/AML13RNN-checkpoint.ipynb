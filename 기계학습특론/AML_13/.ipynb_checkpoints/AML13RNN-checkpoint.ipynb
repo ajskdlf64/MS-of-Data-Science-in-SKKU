{
 "cells": [
  {
   "cell_type": "code",
   "execution_count": 1,
   "metadata": {
    "colab": {
     "base_uri": "https://localhost:8080/"
    },
    "id": "Pbpgx8TkbruG",
    "outputId": "e0e8140a-bc0c-4f54-fb4b-e123b69c54bd"
   },
   "outputs": [
    {
     "name": "stderr",
     "output_type": "stream",
     "text": [
      "Using TensorFlow backend.\n",
      "C:\\Users\\user\\Anaconda3\\envs\\jupyter\\lib\\site-packages\\ipykernel_launcher.py:10: FutureWarning: Passing a negative integer is deprecated in version 1.0 and will not be supported in future version. Instead, use None to not limit the column width.\n",
      "  # Remove the CWD from sys.path while we load stuff.\n"
     ]
    }
   ],
   "source": [
    "import numpy as np\n",
    "import pandas as pd\n",
    "import os\n",
    "from sklearn import preprocessing\n",
    "from keras.layers import Input, Dense, Embedding, LSTM, Dropout, Activation\n",
    "from keras.layers import Bidirectional, GlobalMaxPool1D\n",
    "from keras.preprocessing.text import Tokenizer\n",
    "from keras.preprocessing.sequence import pad_sequences\n",
    "from keras.models import Model\n",
    "pd.set_option('display.max_colwidth', -1)"
   ]
  },
  {
   "cell_type": "code",
   "execution_count": 2,
   "metadata": {
    "colab": {
     "base_uri": "https://localhost:8080/"
    },
    "id": "Ibl-8f6Ybwab",
    "outputId": "8c34a88c-e13f-432e-ca36-9f8ff15c294d"
   },
   "outputs": [
    {
     "data": {
      "text/plain": [
       "((7613, 5), (3263, 4))"
      ]
     },
     "execution_count": 2,
     "metadata": {},
     "output_type": "execute_result"
    }
   ],
   "source": [
    "train = pd.read_csv('train.csv')\n",
    "test = pd.read_csv('test.csv')\n",
    "train.shape, test.shape"
   ]
  },
  {
   "cell_type": "code",
   "execution_count": 3,
   "metadata": {
    "colab": {
     "base_uri": "https://localhost:8080/",
     "height": 221
    },
    "id": "0C9vMybbcpzs",
    "outputId": "1e853c99-3c7c-4e03-82b9-6e2dda92d6a2"
   },
   "outputs": [
    {
     "data": {
      "text/html": [
       "<div>\n",
       "<style scoped>\n",
       "    .dataframe tbody tr th:only-of-type {\n",
       "        vertical-align: middle;\n",
       "    }\n",
       "\n",
       "    .dataframe tbody tr th {\n",
       "        vertical-align: top;\n",
       "    }\n",
       "\n",
       "    .dataframe thead th {\n",
       "        text-align: right;\n",
       "    }\n",
       "</style>\n",
       "<table border=\"1\" class=\"dataframe\">\n",
       "  <thead>\n",
       "    <tr style=\"text-align: right;\">\n",
       "      <th></th>\n",
       "      <th>id</th>\n",
       "      <th>keyword</th>\n",
       "      <th>location</th>\n",
       "      <th>text</th>\n",
       "      <th>target</th>\n",
       "    </tr>\n",
       "  </thead>\n",
       "  <tbody>\n",
       "    <tr>\n",
       "      <th>0</th>\n",
       "      <td>1</td>\n",
       "      <td>NaN</td>\n",
       "      <td>NaN</td>\n",
       "      <td>Our Deeds are the Reason of this #earthquake May ALLAH Forgive us all</td>\n",
       "      <td>1</td>\n",
       "    </tr>\n",
       "    <tr>\n",
       "      <th>1</th>\n",
       "      <td>4</td>\n",
       "      <td>NaN</td>\n",
       "      <td>NaN</td>\n",
       "      <td>Forest fire near La Ronge Sask. Canada</td>\n",
       "      <td>1</td>\n",
       "    </tr>\n",
       "    <tr>\n",
       "      <th>2</th>\n",
       "      <td>5</td>\n",
       "      <td>NaN</td>\n",
       "      <td>NaN</td>\n",
       "      <td>All residents asked to 'shelter in place' are being notified by officers. No other evacuation or shelter in place orders are expected</td>\n",
       "      <td>1</td>\n",
       "    </tr>\n",
       "    <tr>\n",
       "      <th>3</th>\n",
       "      <td>6</td>\n",
       "      <td>NaN</td>\n",
       "      <td>NaN</td>\n",
       "      <td>13,000 people receive #wildfires evacuation orders in California</td>\n",
       "      <td>1</td>\n",
       "    </tr>\n",
       "    <tr>\n",
       "      <th>4</th>\n",
       "      <td>7</td>\n",
       "      <td>NaN</td>\n",
       "      <td>NaN</td>\n",
       "      <td>Just got sent this photo from Ruby #Alaska as smoke from #wildfires pours into a school</td>\n",
       "      <td>1</td>\n",
       "    </tr>\n",
       "  </tbody>\n",
       "</table>\n",
       "</div>"
      ],
      "text/plain": [
       "   id keyword location  \\\n",
       "0  1   NaN     NaN       \n",
       "1  4   NaN     NaN       \n",
       "2  5   NaN     NaN       \n",
       "3  6   NaN     NaN       \n",
       "4  7   NaN     NaN       \n",
       "\n",
       "                                                                                                                                    text  \\\n",
       "0  Our Deeds are the Reason of this #earthquake May ALLAH Forgive us all                                                                   \n",
       "1  Forest fire near La Ronge Sask. Canada                                                                                                  \n",
       "2  All residents asked to 'shelter in place' are being notified by officers. No other evacuation or shelter in place orders are expected   \n",
       "3  13,000 people receive #wildfires evacuation orders in California                                                                        \n",
       "4  Just got sent this photo from Ruby #Alaska as smoke from #wildfires pours into a school                                                 \n",
       "\n",
       "   target  \n",
       "0  1       \n",
       "1  1       \n",
       "2  1       \n",
       "3  1       \n",
       "4  1       "
      ]
     },
     "execution_count": 3,
     "metadata": {},
     "output_type": "execute_result"
    }
   ],
   "source": [
    "train.head()"
   ]
  },
  {
   "cell_type": "code",
   "execution_count": 4,
   "metadata": {
    "id": "vw4rI3X8cxrD"
   },
   "outputs": [],
   "source": [
    "embedded_size = 100\n",
    "max_features = 10000\n",
    "maxlen = 100"
   ]
  },
  {
   "cell_type": "code",
   "execution_count": 5,
   "metadata": {
    "id": "2V4bS96QczH9"
   },
   "outputs": [],
   "source": [
    "from sklearn.model_selection import train_test_split\n",
    "train_df, val_df = train_test_split(train,test_size = 0.1 , random_state = 43)\n",
    "train_X = train_df.text.values\n",
    "test_X = test.text.values\n",
    "val_X = val_df.text.values"
   ]
  },
  {
   "cell_type": "code",
   "execution_count": 6,
   "metadata": {
    "id": "b0DJXYLxc1DN"
   },
   "outputs": [],
   "source": [
    "tokenizer = Tokenizer(num_words = max_features)\n",
    "tokenizer.fit_on_texts(list(train_X))\n",
    "train_X = tokenizer.texts_to_sequences(train_X)\n",
    "val_X = tokenizer.texts_to_sequences(val_X)\n",
    "test_X = tokenizer.texts_to_sequences(test_X)"
   ]
  },
  {
   "cell_type": "code",
   "execution_count": 7,
   "metadata": {
    "id": "8b6wfJHxc2v5"
   },
   "outputs": [],
   "source": [
    "train_X = pad_sequences(train_X, maxlen=maxlen)\n",
    "val_X = pad_sequences(val_X, maxlen=maxlen)\n",
    "test_X = pad_sequences(test_X, maxlen=maxlen)"
   ]
  },
  {
   "cell_type": "code",
   "execution_count": 8,
   "metadata": {
    "id": "JejLz9_zc4gh"
   },
   "outputs": [],
   "source": [
    "train_y = train_df.target.values\n",
    "val_y = val_df.target.values"
   ]
  },
  {
   "cell_type": "code",
   "execution_count": 9,
   "metadata": {
    "colab": {
     "base_uri": "https://localhost:8080/"
    },
    "id": "Az8TvBLmc5qh",
    "outputId": "bf7ab908-662c-41b2-c050-46f62cbd2cdc"
   },
   "outputs": [
    {
     "name": "stdout",
     "output_type": "stream",
     "text": [
      "Model: \"model_1\"\n",
      "_________________________________________________________________\n",
      "Layer (type)                 Output Shape              Param #   \n",
      "=================================================================\n",
      "input_1 (InputLayer)         (None, 100)               0         \n",
      "_________________________________________________________________\n",
      "embedding_1 (Embedding)      (None, 100, 100)          1000000   \n",
      "_________________________________________________________________\n",
      "bidirectional_1 (Bidirection (None, 100, 128)          84480     \n",
      "_________________________________________________________________\n",
      "global_max_pooling1d_1 (Glob (None, 128)               0         \n",
      "_________________________________________________________________\n",
      "dense_1 (Dense)              (None, 16)                2064      \n",
      "_________________________________________________________________\n",
      "dropout_1 (Dropout)          (None, 16)                0         \n",
      "_________________________________________________________________\n",
      "dense_2 (Dense)              (None, 1)                 17        \n",
      "=================================================================\n",
      "Total params: 1,086,561\n",
      "Trainable params: 1,086,561\n",
      "Non-trainable params: 0\n",
      "_________________________________________________________________\n",
      "None\n"
     ]
    }
   ],
   "source": [
    "from keras.models import Model\n",
    "\n",
    "inp = Input(shape = (maxlen,))\n",
    "x = Embedding(max_features,embedded_size)(inp)\n",
    "x = Bidirectional(LSTM(64, return_sequences=True))(x)\n",
    "x = GlobalMaxPool1D()(x)\n",
    "x = Dense(16,activation='relu')(x)\n",
    "x = Dropout(0.1)(x)\n",
    "x = Dense(1,activation = 'sigmoid')(x)\n",
    "model=Model(inputs = inp,outputs = x)\n",
    "model.compile(loss = 'binary_crossentropy',optimizer = 'adam',metrics = ['accuracy'])\n",
    "\n",
    "print(model.summary())"
   ]
  },
  {
   "cell_type": "code",
   "execution_count": 10,
   "metadata": {
    "colab": {
     "base_uri": "https://localhost:8080/"
    },
    "id": "7seCh7dhc7S5",
    "outputId": "c7cf5d91-c816-4ab9-ba08-ece6d3eb95d7"
   },
   "outputs": [
    {
     "name": "stderr",
     "output_type": "stream",
     "text": [
      "C:\\Users\\user\\Anaconda3\\envs\\jupyter\\lib\\site-packages\\tensorflow_core\\python\\framework\\indexed_slices.py:433: UserWarning: Converting sparse IndexedSlices to a dense Tensor of unknown shape. This may consume a large amount of memory.\n",
      "  \"Converting sparse IndexedSlices to a dense Tensor of unknown shape. \"\n"
     ]
    },
    {
     "name": "stdout",
     "output_type": "stream",
     "text": [
      "Train on 6851 samples, validate on 762 samples\n",
      "Epoch 1/10\n",
      "6851/6851 [==============================] - 11s 2ms/step - loss: 0.6835 - accuracy: 0.5748 - val_loss: 0.6864 - val_accuracy: 0.5328\n",
      "Epoch 2/10\n",
      "6851/6851 [==============================] - 12s 2ms/step - loss: 0.6600 - accuracy: 0.5747 - val_loss: 0.6454 - val_accuracy: 0.5328\n",
      "Epoch 3/10\n",
      "6851/6851 [==============================] - 14s 2ms/step - loss: 0.5810 - accuracy: 0.7129 - val_loss: 0.5741 - val_accuracy: 0.7021\n",
      "Epoch 4/10\n",
      "6851/6851 [==============================] - 14s 2ms/step - loss: 0.5117 - accuracy: 0.7876 - val_loss: 0.5306 - val_accuracy: 0.7769\n",
      "Epoch 5/10\n",
      "6851/6851 [==============================] - 14s 2ms/step - loss: 0.4205 - accuracy: 0.8399 - val_loss: 0.4218 - val_accuracy: 0.8268\n",
      "Epoch 6/10\n",
      "6851/6851 [==============================] - 15s 2ms/step - loss: 0.3181 - accuracy: 0.8765 - val_loss: 0.4401 - val_accuracy: 0.8268\n",
      "Epoch 7/10\n",
      "6851/6851 [==============================] - 15s 2ms/step - loss: 0.2513 - accuracy: 0.9101 - val_loss: 0.4644 - val_accuracy: 0.8307\n",
      "Epoch 8/10\n",
      "6851/6851 [==============================] - 16s 2ms/step - loss: 0.2033 - accuracy: 0.9291 - val_loss: 0.4965 - val_accuracy: 0.8228\n",
      "Epoch 9/10\n",
      "6851/6851 [==============================] - 16s 2ms/step - loss: 0.1655 - accuracy: 0.9442 - val_loss: 0.5397 - val_accuracy: 0.8176\n",
      "Epoch 10/10\n",
      "6851/6851 [==============================] - 17s 2ms/step - loss: 0.1361 - accuracy: 0.9550 - val_loss: 0.6251 - val_accuracy: 0.8097\n"
     ]
    },
    {
     "data": {
      "text/plain": [
       "<keras.callbacks.callbacks.History at 0x1fac104a088>"
      ]
     },
     "execution_count": 10,
     "metadata": {},
     "output_type": "execute_result"
    }
   ],
   "source": [
    "model.fit(train_X, train_y, batch_size=512, epochs=10, validation_data=(val_X, val_y))"
   ]
  },
  {
   "cell_type": "code",
   "execution_count": 11,
   "metadata": {
    "colab": {
     "base_uri": "https://localhost:8080/"
    },
    "id": "n_FnfQHtc8vB",
    "outputId": "db6ee3ca-f13e-4ecf-9d93-e517b3bbeb2c"
   },
   "outputs": [
    {
     "name": "stdout",
     "output_type": "stream",
     "text": [
      "3263/3263 [==============================] - 2s 470us/step\n"
     ]
    }
   ],
   "source": [
    "preds = model.predict([test_X],batch_size = 1024,verbose = 1)\n",
    "predictions = (preds > 0.5).astype(int)\n",
    "predictions = np.ndarray.flatten(predictions)"
   ]
  },
  {
   "cell_type": "code",
   "execution_count": 12,
   "metadata": {
    "id": "H1JehHkXc_U1"
   },
   "outputs": [],
   "source": [
    "target = pd.read_csv('socialmedia-disaster-tweets.csv')\n",
    "target = target[['choose_one', 'text']]\n",
    "target['target'] = (target['choose_one']=='Relevant').astype(int)\n",
    "target['id'] = target.index\n",
    "merged_df = pd.merge(test, target, on='id')"
   ]
  },
  {
   "cell_type": "code",
   "execution_count": 13,
   "metadata": {
    "colab": {
     "base_uri": "https://localhost:8080/",
     "height": 486
    },
    "id": "4eU91-gWc_id",
    "outputId": "24615a8f-550b-4aa5-b65d-dcd4ab145001"
   },
   "outputs": [
    {
     "data": {
      "text/html": [
       "<div>\n",
       "<style scoped>\n",
       "    .dataframe tbody tr th:only-of-type {\n",
       "        vertical-align: middle;\n",
       "    }\n",
       "\n",
       "    .dataframe tbody tr th {\n",
       "        vertical-align: top;\n",
       "    }\n",
       "\n",
       "    .dataframe thead th {\n",
       "        text-align: right;\n",
       "    }\n",
       "</style>\n",
       "<table border=\"1\" class=\"dataframe\">\n",
       "  <thead>\n",
       "    <tr style=\"text-align: right;\">\n",
       "      <th></th>\n",
       "      <th>Real</th>\n",
       "      <th>Pred</th>\n",
       "      <th>Text</th>\n",
       "    </tr>\n",
       "  </thead>\n",
       "  <tbody>\n",
       "    <tr>\n",
       "      <th>0</th>\n",
       "      <td>1</td>\n",
       "      <td>[99.3734]</td>\n",
       "      <td>Property losses from northern CA wildfire nearly double http://t.co/fHqx7FiIVJ If you pray please remember CA people/forests/wildlife/water</td>\n",
       "    </tr>\n",
       "    <tr>\n",
       "      <th>1</th>\n",
       "      <td>1</td>\n",
       "      <td>[88.29204]</td>\n",
       "      <td>[10:45:27JST Aug06:First Alert] M4.1 at 'E off Chiba pref.' under 10km (35.8140.8). Estimated max seismic# is 3</td>\n",
       "    </tr>\n",
       "    <tr>\n",
       "      <th>2</th>\n",
       "      <td>1</td>\n",
       "      <td>[95.834206]</td>\n",
       "      <td>#CityofCalgary has activated its Municipal Emergency Plan. #yycstorm</td>\n",
       "    </tr>\n",
       "    <tr>\n",
       "      <th>3</th>\n",
       "      <td>0</td>\n",
       "      <td>[7.595764]</td>\n",
       "      <td>@FlameCored colliding with her projectile as a cloud of smoke engulfed the area. Not a moment later Shadow propelled himself through it --</td>\n",
       "    </tr>\n",
       "    <tr>\n",
       "      <th>4</th>\n",
       "      <td>1</td>\n",
       "      <td>[0.31027588]</td>\n",
       "      <td>Here's a quick timelapse I made of the Finger Rock Fire last night from about 9PM - 1AM. Check it out! #fingerrockfire #wildfire #catalinas</td>\n",
       "    </tr>\n",
       "    <tr>\n",
       "      <th>5</th>\n",
       "      <td>1</td>\n",
       "      <td>[21.13433]</td>\n",
       "      <td>The South Korean army wounded 44 persons' Takeshima's Japanese fisherman and occupies the island.  \\nhttp://t.co/mJCXgKU8Yt</td>\n",
       "    </tr>\n",
       "    <tr>\n",
       "      <th>6</th>\n",
       "      <td>0</td>\n",
       "      <td>[1.2134051]</td>\n",
       "      <td>Click Share in minute info-technews The Trouble With RedditÛªs Content Policy Update | Re/code Û_ http://t.co/wS0xohNb7v</td>\n",
       "    </tr>\n",
       "    <tr>\n",
       "      <th>7</th>\n",
       "      <td>0</td>\n",
       "      <td>[94.12823]</td>\n",
       "      <td>@lizXy_ IMAGINE IF AN EARTHQUAKE HAPPENED</td>\n",
       "    </tr>\n",
       "    <tr>\n",
       "      <th>8</th>\n",
       "      <td>1</td>\n",
       "      <td>[99.26201]</td>\n",
       "      <td>Wolverine Fire Update - Thursday August 6 - 9:00 Am\\n\\nIncident: Wolverine Fire Wildfire\\nReleased: 41 min. ago... http://t.co/8WDTTzpTXH</td>\n",
       "    </tr>\n",
       "    <tr>\n",
       "      <th>9</th>\n",
       "      <td>1</td>\n",
       "      <td>[2.4647276]</td>\n",
       "      <td>#BreakingNews Mva / Multiple Injuries - Saint Petersburg FL: E7 requesting R7 &amp;amp; 2 sunstar units for injuriesÛ_ http://t.co/0XRysEpQhL</td>\n",
       "    </tr>\n",
       "  </tbody>\n",
       "</table>\n",
       "</div>"
      ],
      "text/plain": [
       "   Real          Pred  \\\n",
       "0  1     [99.3734]      \n",
       "1  1     [88.29204]     \n",
       "2  1     [95.834206]    \n",
       "3  0     [7.595764]     \n",
       "4  1     [0.31027588]   \n",
       "5  1     [21.13433]     \n",
       "6  0     [1.2134051]    \n",
       "7  0     [94.12823]     \n",
       "8  1     [99.26201]     \n",
       "9  1     [2.4647276]    \n",
       "\n",
       "                                                                                                                                          Text  \n",
       "0  Property losses from northern CA wildfire nearly double http://t.co/fHqx7FiIVJ If you pray please remember CA people/forests/wildlife/water  \n",
       "1  [10:45:27JST Aug06:First Alert] M4.1 at 'E off Chiba pref.' under 10km (35.8140.8). Estimated max seismic# is 3                              \n",
       "2  #CityofCalgary has activated its Municipal Emergency Plan. #yycstorm                                                                         \n",
       "3  @FlameCored colliding with her projectile as a cloud of smoke engulfed the area. Not a moment later Shadow propelled himself through it --   \n",
       "4  Here's a quick timelapse I made of the Finger Rock Fire last night from about 9PM - 1AM. Check it out! #fingerrockfire #wildfire #catalinas  \n",
       "5  The South Korean army wounded 44 persons' Takeshima's Japanese fisherman and occupies the island.  \\nhttp://t.co/mJCXgKU8Yt                  \n",
       "6  Click Share in minute info-technews The Trouble With RedditÛªs Content Policy Update | Re/code Û_ http://t.co/wS0xohNb7v                   \n",
       "7  @lizXy_ IMAGINE IF AN EARTHQUAKE HAPPENED                                                                                                    \n",
       "8  Wolverine Fire Update - Thursday August 6 - 9:00 Am\\n\\nIncident: Wolverine Fire Wildfire\\nReleased: 41 min. ago... http://t.co/8WDTTzpTXH    \n",
       "9  #BreakingNews Mva / Multiple Injuries - Saint Petersburg FL: E7 requesting R7 &amp; 2 sunstar units for injuriesÛ_ http://t.co/0XRysEpQhL   "
      ]
     },
     "execution_count": 13,
     "metadata": {},
     "output_type": "execute_result"
    }
   ],
   "source": [
    "real = []\n",
    "text = []\n",
    "pred = []\n",
    "for i in range(10):\n",
    "  rand= np.random.randint(0,len(preds))\n",
    "  real.append(merged_df['target'][rand])\n",
    "  text.append(test['text'][rand])\n",
    "  pred.append(preds[rand] * 100)\n",
    "\n",
    "dataset = pd.DataFrame({'Real':real, 'Pred': pred, 'Text':text})\n",
    "dataset.head(10)"
   ]
  },
  {
   "cell_type": "code",
   "execution_count": 14,
   "metadata": {
    "colab": {
     "base_uri": "https://localhost:8080/"
    },
    "id": "Empz9bhsc_pd",
    "outputId": "2685990c-e8b1-4afd-cf2d-bc1b8574d892"
   },
   "outputs": [
    {
     "name": "stdout",
     "output_type": "stream",
     "text": [
      "77.75053631627337\n"
     ]
    }
   ],
   "source": [
    "from sklearn.metrics import accuracy_score\n",
    "acc = merged_df['target'].values.tolist()\n",
    "acc = accuracy_score(acc, np.round(preds))*100\n",
    "print(acc)"
   ]
  }
 ],
 "metadata": {
  "accelerator": "GPU",
  "colab": {
   "name": "AML13RNN.ipynb",
   "provenance": []
  },
  "kernelspec": {
   "display_name": "Python 3",
   "language": "python",
   "name": "python3"
  },
  "language_info": {
   "codemirror_mode": {
    "name": "ipython",
    "version": 3
   },
   "file_extension": ".py",
   "mimetype": "text/x-python",
   "name": "python",
   "nbconvert_exporter": "python",
   "pygments_lexer": "ipython3",
   "version": "3.7.9"
  }
 },
 "nbformat": 4,
 "nbformat_minor": 1
}
